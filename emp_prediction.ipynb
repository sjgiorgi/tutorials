{
 "cells": [
  {
   "cell_type": "code",
   "execution_count": 6,
   "metadata": {
    "collapsed": false
   },
   "outputs": [
    {
     "name": "stderr",
     "output_type": "stream",
     "text": [
      "/usr/lib/pymodules/python2.7/matplotlib/__init__.py:1173: UserWarning:  This call to matplotlib.use() has no effect\n",
      "because the backend has already been chosen;\n",
      "matplotlib.use() must be called *before* pylab, matplotlib.pyplot,\n",
      "or matplotlib.backends is imported for the first time.\n",
      "\n",
      "  warnings.warn(_use_error_msg)\n"
     ]
    },
    {
     "name": "stdout",
     "output_type": "stream",
     "text": [
      "Importing FeatureWorker... mif and mm...\n",
      "pandas as pd... numpy as np... matplotlib as mpl... pyplot as plt... seaborn as sns...\n",
      "Start sqlalchemy engine for database (or hit Enter for None): \n",
      "\n",
      "No engine initialized. Initialize with:\n",
      "> db_eng = mif.get_db_engine(db)\n",
      "\n"
     ]
    }
   ],
   "source": [
    "%run ~/start_notebook.py"
   ]
  },
  {
   "cell_type": "code",
   "execution_count": 9,
   "metadata": {
    "collapsed": true
   },
   "outputs": [],
   "source": [
    "%matplotlib inline\n",
    "sns.set(style=\"whitegrid\")"
   ]
  },
  {
   "cell_type": "code",
   "execution_count": 80,
   "metadata": {
    "collapsed": false
   },
   "outputs": [],
   "source": [
    "sal_emp_data = {\n",
    "    '1gram': 0.204,\n",
    "    'LIWC': 0.166,\n",
    "    'topics': 0.177,\n",
    "    'gen': 0.137,\n",
    "    'race': None,\n",
    "    'faith': None,\n",
    "    '1gram_LIWC': 0.214,\n",
    "    '1gram_topics': 0.200,\n",
    "    '1gram_gen': 0.213,\n",
    "    '1gram_race': 0.154,\n",
    "    '1gram_faith': 0.157,\n",
    "    'LIWC_topics': 0.184,\n",
    "    'gen_race_faith': 0.141,\n",
    "    '1gram_topics_LIWC': 0.266,\n",
    "    '1gram_topics_LIWC_gen': 0.206,\n",
    "    '1gram_gen_race_faith': 0.153,\n",
    "    '1gram_topics_LIWC_gen_race_faith': 0.217,\n",
    "}\n",
    "path_emp_data = {\n",
    "    '1gram': 0.244,\n",
    "    'LIWC': 0.182,\n",
    "    'topics': 0.234,\n",
    "    'gen': 0.154,\n",
    "    'race': 0.040,\n",
    "    'faith': None,\n",
    "    '1gram_LIWC': 0.250,\n",
    "    '1gram_topics': 0.245,\n",
    "    '1gram_gen': 0.230,\n",
    "    '1gram_race': 0.167,\n",
    "    '1gram_faith': 0.156,\n",
    "    'LIWC_topics': 0.236,\n",
    "    'gen_race_faith': 0.161,\n",
    "    '1gram_topics_LIWC': 0.267,\n",
    "    '1gram_topics_LIWC_gen': 0.246,\n",
    "    '1gram_gen_race_faith': 0.156,\n",
    "    '1gram_topics_LIWC_gen_race_faith': 0.242,\n",
    "}"
   ]
  },
  {
   "cell_type": "code",
   "execution_count": 84,
   "metadata": {
    "collapsed": false
   },
   "outputs": [],
   "source": [
    "sal = pd.DataFrame(sal_emp_data.items(), columns=['model_sal', 'sal_r'])\n",
    "path = pd.DataFrame(path_emp_data.items(), columns=['model', 'path_r'])"
   ]
  },
  {
   "cell_type": "code",
   "execution_count": 87,
   "metadata": {
    "collapsed": true
   },
   "outputs": [],
   "source": [
    "results = pd.concat([sal, path], axis=1)"
   ]
  },
  {
   "cell_type": "code",
   "execution_count": 88,
   "metadata": {
    "collapsed": false
   },
   "outputs": [
    {
     "data": {
      "text/html": [
       "<div>\n",
       "<table border=\"1\" class=\"dataframe\">\n",
       "  <thead>\n",
       "    <tr style=\"text-align: right;\">\n",
       "      <th></th>\n",
       "      <th>model</th>\n",
       "      <th>emp_type</th>\n",
       "      <th>r</th>\n",
       "    </tr>\n",
       "  </thead>\n",
       "  <tbody>\n",
       "    <tr>\n",
       "      <th>0</th>\n",
       "      <td>1gram_topics_LIWC</td>\n",
       "      <td>sal_r</td>\n",
       "      <td>0.266</td>\n",
       "    </tr>\n",
       "    <tr>\n",
       "      <th>1</th>\n",
       "      <td>1gram_topics_LIWC</td>\n",
       "      <td>path_r</td>\n",
       "      <td>0.267</td>\n",
       "    </tr>\n",
       "    <tr>\n",
       "      <th>2</th>\n",
       "      <td>1gram_LIWC</td>\n",
       "      <td>sal_r</td>\n",
       "      <td>0.214</td>\n",
       "    </tr>\n",
       "    <tr>\n",
       "      <th>3</th>\n",
       "      <td>1gram_LIWC</td>\n",
       "      <td>path_r</td>\n",
       "      <td>0.250</td>\n",
       "    </tr>\n",
       "    <tr>\n",
       "      <th>4</th>\n",
       "      <td>1gram_topics_LIWC_gen</td>\n",
       "      <td>sal_r</td>\n",
       "      <td>0.206</td>\n",
       "    </tr>\n",
       "  </tbody>\n",
       "</table>\n",
       "</div>"
      ],
      "text/plain": [
       "                   model emp_type      r\n",
       "0      1gram_topics_LIWC    sal_r  0.266\n",
       "1      1gram_topics_LIWC   path_r  0.267\n",
       "2             1gram_LIWC    sal_r  0.214\n",
       "3             1gram_LIWC   path_r  0.250\n",
       "4  1gram_topics_LIWC_gen    sal_r  0.206"
      ]
     },
     "execution_count": 88,
     "metadata": {},
     "output_type": "execute_result"
    }
   ],
   "source": [
    "results = results[[\"model\", \"sal_r\", \"path_r\"]].set_index([\"model\"]).sort_values(\"path_r\", ascending=False)\n",
    "results = results.stack()\n",
    "results = results.reset_index()\n",
    "results.columns = ['model', 'emp_type', 'r']\n",
    "results.head()"
   ]
  },
  {
   "cell_type": "code",
   "execution_count": 89,
   "metadata": {
    "collapsed": false
   },
   "outputs": [
    {
     "data": {
      "text/plain": [
       "<matplotlib.axes.AxesSubplot at 0x7f33c00745d0>"
      ]
     },
     "execution_count": 89,
     "metadata": {},
     "output_type": "execute_result"
    },
    {
     "data": {
      "image/png": "[encoded data removed]",
      "text/plain": [
       "<matplotlib.figure.Figure at 0x7f33bf547650>"
      ]
     },
     "metadata": {},
     "output_type": "display_data"
    }
   ],
   "source": [
    "f, ax = plt.subplots(figsize=(6, 15))\n",
    "\n",
    "\n",
    "# Plot the crashes where alcohol was involved\n",
    "sns.set_color_codes(\"muted\")\n",
    "#sns.barplot(x=\"path_r\", y=\"model\", data=results,\n",
    " #           label=\"path_r\", color=\"b\")\n",
    "\n",
    "sns.barplot(x=\"r\", y=\"model\", hue=\"emp_type\", data=results)"
   ]
  },
  {
   "cell_type": "code",
   "execution_count": null,
   "metadata": {
    "collapsed": false
   },
   "outputs": [],
   "source": []
  },
  {
   "cell_type": "code",
   "execution_count": 74,
   "metadata": {
    "collapsed": true
   },
   "outputs": [],
   "source": []
  },
  {
   "cell_type": "code",
   "execution_count": null,
   "metadata": {
    "collapsed": false
   },
   "outputs": [],
   "source": []
  },
  {
   "cell_type": "code",
   "execution_count": null,
   "metadata": {
    "collapsed": false
   },
   "outputs": [],
   "source": []
  },
  {
   "cell_type": "code",
   "execution_count": null,
   "metadata": {
    "collapsed": false
   },
   "outputs": [],
   "source": []
  },
  {
   "cell_type": "code",
   "execution_count": null,
   "metadata": {
    "collapsed": false
   },
   "outputs": [],
   "source": []
  },
  {
   "cell_type": "code",
   "execution_count": null,
   "metadata": {
    "collapsed": true
   },
   "outputs": [],
   "source": []
  }
 ],
 "metadata": {
  "kernelspec": {
   "display_name": "Python 2",
   "language": "python",
   "name": "python2"
  },
  "language_info": {
   "codemirror_mode": {
    "name": "ipython",
    "version": 2
   },
   "file_extension": ".py",
   "mimetype": "text/x-python",
   "name": "python",
   "nbconvert_exporter": "python",
   "pygments_lexer": "ipython2",
   "version": "2.7.6"
  }
 },
 "nbformat": 4,
 "nbformat_minor": 0
}
