{
 "cells": [
  {
   "cell_type": "code",
   "execution_count": 1,
   "metadata": {
    "collapsed": true
   },
   "outputs": [],
   "source": [
    "import sys\n",
    "sys.path.insert(0, '/home/sgiorgi/release/python2/')"
   ]
  },
  {
   "cell_type": "code",
   "execution_count": 30,
   "metadata": {
    "collapsed": false
   },
   "outputs": [],
   "source": [
    "%matplotlib inline\n",
    "import matplotlib\n",
    "import numpy as np\n",
    "import pandas as pd\n",
    "import matplotlib.pyplot as plt\n",
    "from matplotlib.image import BboxImage\n",
    "from matplotlib.transforms import Bbox, TransformedBbox\n",
    "import matplotlib.patches as mpatches"
   ]
  },
  {
   "cell_type": "code",
   "execution_count": 3,
   "metadata": {
    "collapsed": false
   },
   "outputs": [
    {
     "name": "stderr",
     "output_type": "stream",
     "text": [
      "/data/anaconda2/envs/wwbpy/lib/python2.7/site-packages/sklearn/lda.py:4: DeprecationWarning: lda.LDA has been moved to discriminant_analysis.LinearDiscriminantAnalysis in 0.17 and will be removed in 0.19\n",
      "  \"in 0.17 and will be removed in 0.19\", DeprecationWarning)\n"
     ]
    }
   ],
   "source": [
    "import dlatk\n",
    "from dlatk.mysqlMethods import mysql_iter_funcs as mif\n",
    "from dlatk.featureStar import FeatureStar"
   ]
  },
  {
   "cell_type": "code",
   "execution_count": null,
   "metadata": {
    "collapsed": true
   },
   "outputs": [],
   "source": [
    "ini_file = \"/home/sgiorgi/initFiles/empathyCircum.ini\"\n",
    "init_str = \"\"\"[constants]\n",
    "corpdb = emp_test\n",
    "corptable = msgs_uniq_en\n",
    "correl_field = user_id\n",
    "feattable = feat$cat_met_a30_2000_cp_w$msgs_uniq_en$user_id$16to16\n",
    "outcometable = emp_merged_uniq\n",
    "outcomefields = path_jord_ispt\n",
    "outcomecontrols = sal_ec_iopt\n",
    "group_freq_thresh = 500\n",
    "\"\"\"\n",
    "with open(ini_file, \"w\") as text_file:\n",
    "    text_file.write(init_str)"
   ]
  },
  {
   "cell_type": "code",
   "execution_count": null,
   "metadata": {
    "collapsed": true
   },
   "outputs": [],
   "source": [
    "fs = FeatureStar.fromFile(ini_file)"
   ]
  },
  {
   "cell_type": "code",
   "execution_count": null,
   "metadata": {
    "collapsed": false
   },
   "outputs": [],
   "source": [
    "path_correls = fs.oa.correlateWithFeatures(fs.fg[0], False, \"BH\", [], None, None, False, False, False)"
   ]
  },
  {
   "cell_type": "code",
   "execution_count": null,
   "metadata": {
    "collapsed": false
   },
   "outputs": [],
   "source": [
    "path_correls = path_correls['path_jord_ispt']"
   ]
  },
  {
   "cell_type": "code",
   "execution_count": null,
   "metadata": {
    "collapsed": false
   },
   "outputs": [],
   "source": [
    "#path_topics = []\n",
    "#for topic_id, correl in path_correls.items():\n",
    "    "
   ]
  },
  {
   "cell_type": "code",
   "execution_count": 4,
   "metadata": {
    "collapsed": true
   },
   "outputs": [],
   "source": [
    "db = 'fb22'\n",
    "index = \"user_id\"\n",
    "db_eng = mif.get_db_engine(db)"
   ]
  },
  {
   "cell_type": "code",
   "execution_count": 5,
   "metadata": {
    "collapsed": false
   },
   "outputs": [],
   "source": [
    "feat_db = \"fb22\"\n",
    "feat_tbl = \"feat$cat_met_a30_2000_cp_w$messagesEn$user_id$16to16$1kusers\"\n",
    "feat_sql = \"select group_id as user_id, feat, group_norm from {feat_db}.{feat_tbl}\".format(feat_db=feat_db, feat_tbl=feat_tbl)\n",
    "feat = pd.read_sql(sql=feat_sql, con=db_eng)"
   ]
  },
  {
   "cell_type": "code",
   "execution_count": 6,
   "metadata": {
    "collapsed": true
   },
   "outputs": [],
   "source": [
    "feat = feat.reset_index()"
   ]
  },
  {
   "cell_type": "code",
   "execution_count": 7,
   "metadata": {
    "collapsed": false
   },
   "outputs": [],
   "source": [
    "feat = feat.pivot('user_id', 'feat', 'group_norm')\n",
    "feat.fillna(0, inplace=True)"
   ]
  },
  {
   "cell_type": "code",
   "execution_count": null,
   "metadata": {
    "collapsed": false
   },
   "outputs": [],
   "source": [
    "feat.head()"
   ]
  },
  {
   "cell_type": "code",
   "execution_count": 8,
   "metadata": {
    "collapsed": false
   },
   "outputs": [],
   "source": [
    "ocean_db = \"fb22\"\n",
    "ocean_tbl = \"users_ai\"\n",
    "person_sql = \"SELECT user_id, ope, con, ext, agr, neu FROM {ocean_db}.{ocean_tbl}\".format(ocean_db=ocean_db, ocean_tbl=ocean_tbl)\n",
    "ocean = pd.read_sql(sql=person_sql, con=db_eng, index_col=index)"
   ]
  },
  {
   "cell_type": "code",
   "execution_count": 9,
   "metadata": {
    "collapsed": false
   },
   "outputs": [],
   "source": [
    "ocean = ocean.dropna()\n",
    "#ocean = ocean.reset_index()\n",
    "#ocean = ocean.pivot('user_id', 'feat', 'group_norm')"
   ]
  },
  {
   "cell_type": "code",
   "execution_count": 10,
   "metadata": {
    "collapsed": false
   },
   "outputs": [],
   "source": [
    "# path pos: 168, 104, 335, 486, 282, 46, 206, 143, 233, 402\n",
    "# sal pos: 236, 184, 473, 402, 177, 46, 357, 223, 56, 110\n",
    "# cor_topics = feat[[\"168\", \"104\", \"335\", \"486\", \"282\", \"46\", \"206\", \"143\", \"233\", \"402\", \"236\", \"184\", \"473\", \"402\", \"177\", \"46\", \"357\", \"223\", \"56\", \"110\"]]\n",
    "\n",
    "# path pos: 157, 622, 327, 1456, 1452, 381, 113, 1733, 1517, 1910, 466, 850, 1642, 1347, 1262, 873, 495, 193, 323, 147, 1886, 1132, 807, 1917, 358\n",
    "# sal pos: 1725, 472, 599, 1875, 1450, 413, 1933, 964, 616, 747, 713, 1159, 123, 99, 1984, 1775, 1129, 26, 303, 277, 982, 714, 690, 1916, 1566\n",
    "cor_topics = feat[[\"157\", \"622\", \"327\", \"1456\", \"1452\", \"381\", \"113\", \"1733\", \"1517\", \"1910\", \"466\", \"850\", \"1642\", \"1347\", \"1262\", \"873\", \"495\", \"193\", \"323\", \"147\", \"1886\", \"1132\", \"807\", \"1917\", \"358\", \"1725\", \"472\", \"599\", \"1875\", \"1450\", \"413\", \"1933\", \"964\", \"616\", \"747\", \"713\", \"1159\", \"123\", \"99\", \"1984\", \"1775\", \"1129\", \"26\", \"303\", \"277\", \"982\", \"714\", \"690\", \"1916\", \"1566\"]]"
   ]
  },
  {
   "cell_type": "code",
   "execution_count": 13,
   "metadata": {
    "collapsed": true
   },
   "outputs": [],
   "source": [
    "pers_topics = pd.concat([ocean,cor_topics], axis=1)\n",
    "pers_corr = pers_topics.corr()"
   ]
  },
  {
   "cell_type": "code",
   "execution_count": 393,
   "metadata": {
    "collapsed": false
   },
   "outputs": [],
   "source": [
    "def plot_personality(traitX, traitY, dataframe, labels, use_images, show_plot=True):\n",
    "    #for x, y in zip(xData, yData)\n",
    "    threshold = 0.05\n",
    "    bound = 0.25\n",
    "    \n",
    "    fig = plt.figure(figsize=(20,20))\n",
    "    ####ax = fig.add_subplot(111)\n",
    "    ax = fig.add_axes([0,0,bound,bound])\n",
    "    ax.set_xlim([-bound,bound])\n",
    "    ax.set_ylim([-bound,bound])\n",
    "    ####ax.set_xlabel(traitX)\n",
    "    ####ax.set_ylabel(traitY) \n",
    "    ####ax_polar.set_xticklabels(['right', '', 'top', '', 'left', '', 'bottom', ''])\n",
    "#     ax_polar = fig.add_axes([0,0,bound,bound], polar=True, frameon=False)\n",
    "#     ax_polar.set_xticklabels(labels)\n",
    "#     ax_polar.set_rticks([0.5,1.0])\n",
    "#     ax_polar.set_yticklabels(['', '0.5'])\n",
    "    ax.set_axis_bgcolor('white')\n",
    "    ax.get_xaxis().set_ticks([])\n",
    "    ax.get_yaxis().set_ticks([])\n",
    "    \n",
    "    ####ax.yaxis.grid(True, which='major')\n",
    "    \n",
    "    #legend\n",
    "    path_red = mpatches.Patch(color='red', label='Pathogenic')\n",
    "    sal_blue = mpatches.Patch(color='blue', label='Salutogenic')\n",
    "    x_bpoints = []\n",
    "    y_bpoints = []\n",
    "    x_rpoints = []\n",
    "    y_rpoints = []\n",
    "    for index, row in dataframe.iterrows():\n",
    "        x = row[traitX]\n",
    "        y = row[traitY]\n",
    "        try:\n",
    "            if int(index) in [157, 622, 327, 1456, 1452, 381, 113, 1733, 1517, 1910, 466, 850, 1642, 1347, 1262, 873, 495, 193, 323, 147, 1886, 1132, 807, 1917, 358]: # path topics\n",
    "                if use_images:\n",
    "                    im = plt.imread('/home/sgiorgi/wordclouds_red/topic_' + str(index) + '.png')\n",
    "                else:\n",
    "                    im = None\n",
    "                    x_rpoints.append(x)\n",
    "                    y_rpoints.append(y)\n",
    "            else: # sal topics\n",
    "                if use_images:\n",
    "                    im = plt.imread('/home/sgiorgi/wordclouds_blue/topic_' + str(index) + '.png')\n",
    "                else:\n",
    "                    im = None\n",
    "                    x_bpoints.append(x)\n",
    "                    y_bpoints.append(y)\n",
    "            if use_images:\n",
    "                bb = Bbox.from_bounds(x,y,.05,.05)  \n",
    "                bb2 = TransformedBbox(bb,ax.transData)\n",
    "                bbox_image = BboxImage(bb2,\n",
    "                                        norm = None,\n",
    "                                        origin=None,\n",
    "                                        clip_on=False,\n",
    "                                      alpha=0.75)\n",
    "\n",
    "                bbox_image.set_data(im)\n",
    "                ax.add_artist(bbox_image)                \n",
    "        except:\n",
    "            pass\n",
    "    if not use_images:\n",
    "        bscatter = ax.scatter(x_bpoints, y_bpoints, c='blue')\n",
    "        rscatter = ax.scatter(x_rpoints, y_rpoints, c='red')\n",
    "    \n",
    "    ax.grid(False)#, color=\"black\", linestyle=\"--\")\n",
    "    ax_polar = fig.add_axes([0,0,bound,bound], polar=True, frameon=False)\n",
    "    ax_polar.set_xticklabels(labels)\n",
    "    ax_polar.set_rticks([0.5,1.0])\n",
    "    ax_polar.set_yticklabels(['', '0.5'])\n",
    "    ax_polar.grid(True, color=\"grey\", linestyle=\"--\")\n",
    "    plt.legend(handles=[path_red, sal_blue], loc = 'lower left')\n",
    "    if show_plot:\n",
    "        plt.show()\n",
    "    else:\n",
    "        if use_images:\n",
    "            plt.savefig(\"plot_%s_vs_%s.pdf\" % (traitX, traitY), dpi=300, format='pdf', bbox_inches='tight')\n",
    "        else:\n",
    "            plt.savefig(\"plot_%s_vs_%s_dots.pdf\" % (traitX, traitY), dpi=300, format='pdf', bbox_inches='tight')"
   ]
  },
  {
   "cell_type": "code",
   "execution_count": 394,
   "metadata": {
    "collapsed": false
   },
   "outputs": [
    {
     "data": {
      "image/png": "[encoded data removed]",
      "text/plain": [
       "<matplotlib.figure.Figure at 0x7fc5849bd490>"
      ]
     },
     "metadata": {},
     "output_type": "display_data"
    }
   ],
   "source": [
    "x_item, y_item, labels = (\"agr\", \"ext\", ['Agreeableness', 'Warm', 'Extraversion', 'Dominance', 'Disagreeableness', 'Cold-hearted', 'Introversion', 'Submissiveness'])\n",
    "#x_item, y_item, labels = (\"con\", \"neu\", ['Conscientiousness', '', 'Neuroticism', '', '', '', '', ''])\n",
    "#x_item, y_item, labels = (\"ope\", \"agr\", ['Openness', '', 'Agreeableness', '', '', '', '', ''])\n",
    "#x_item, y_item, labels = (\"ope\", \"ext\", ['Openness', '', 'Extraversion', '', '', '', '', ''])\n",
    "#x_item, y_item, labels = (\"ope\", \"neu\", ['Openness', '', 'Neuroticism', '', '', '', '', ''])\n",
    "pers_plot = pers_corr[[x_item, y_item]]\n",
    "plot_personality(x_item, y_item, pers_plot, labels, use_images=False, show_plot=True)"
   ]
  },
  {
   "cell_type": "code",
   "execution_count": 16,
   "metadata": {
    "collapsed": false
   },
   "outputs": [],
   "source": [
    "topics = [\"157\", \"622\", \"327\", \"1456\", \"1452\", \"381\", \"113\", \"1733\", \"1517\", \"1910\", \"466\", \"850\", \"1642\", \"1347\", \"1262\", \"873\", \"495\", \"193\", \"323\", \"147\", \"1886\", \"1132\", \"807\", \"1917\", \"358\", \"1725\", \"472\", \"599\", \"1875\", \"1450\", \"413\", \"1933\", \"964\", \"616\", \"747\", \"713\", \"1159\", \"123\", \"99\", \"1984\", \"1775\", \"1129\", \"26\", \"303\", \"277\", \"982\", \"714\", \"690\", \"1916\", \"1566\"]\n",
    "topic_dict = dict()\n",
    "db = \"permaLexicon\"\n",
    "tbl = \"met_a30_2000_freq_t50ll\"\n",
    "lim = 5\n",
    "for topic in topics:\n",
    "    topic_dict[topic] = \"\"\n",
    "    sql = \"\"\"SELECT term FROM {db}.{tbl} where category='{topic}' order by weight desc limit {lim}\"\"\".format(db=db, tbl=tbl,topic=str(topic), lim=str(lim))\n",
    "    results = db_eng.execute(sql)\n",
    "    topic_dict[topic] +=  \", \".join([str(row[0]) for row in results])"
   ]
  },
  {
   "cell_type": "code",
   "execution_count": 489,
   "metadata": {
    "collapsed": true
   },
   "outputs": [],
   "source": [
    "import mpld3\n",
    "mpld3.enable_notebook()"
   ]
  },
  {
   "cell_type": "code",
   "execution_count": 490,
   "metadata": {
    "collapsed": false
   },
   "outputs": [],
   "source": [
    "def plot_labeled_personality(traitX, traitY, dataframe, labels, topics):\n",
    "    #for x, y in zip(xData, yData)\n",
    "    threshold = 0.05\n",
    "    bound = 0.25\n",
    "    \n",
    "    #fig = plt.figure()\n",
    "    ####ax = fig.add_subplot(111)\n",
    "    fig, ax = plt.subplots(subplot_kw=dict(axisbg='#EEEEEE'), figsize=(10,10))\n",
    "    \n",
    "    ####ax.yaxis.grid(True, which='major')\n",
    "    \n",
    "    #legend\n",
    "    path_red = mpatches.Patch(color='red', label='Pathogenic')\n",
    "    sal_blue = mpatches.Patch(color='blue', label='Salutogenic')\n",
    "    x_bpoints = []\n",
    "    y_bpoints = []\n",
    "    x_rpoints = []\n",
    "    y_rpoints = []\n",
    "    labels_b = []\n",
    "    labels_r = []\n",
    "    for index, row in dataframe.iterrows():\n",
    "        x = row[traitX]\n",
    "        y = row[traitY]\n",
    "        try:\n",
    "            if int(index) in [157, 622, 327, 1456, 1452, 381, 113, 1733, 1517, 1910, 466, 850, 1642, 1347, 1262, 873, 495, 193, 323, 147, 1886, 1132, 807, 1917, 358]: # path topics\n",
    "                x_rpoints.append(x)\n",
    "                y_rpoints.append(y)\n",
    "                labels_r.append(topics[index])\n",
    "            else: # sal topics\n",
    "                x_bpoints.append(x)\n",
    "                y_bpoints.append(y)\n",
    "                labels_b.append(topics[index])\n",
    "           \n",
    "        except:\n",
    "            pass\n",
    "#     ax_polar = fig.add_axes([0,0,bound,bound], polar=True, frameon=False)\n",
    "#     ax_polar.set_xticklabels(labels)\n",
    "#     ax_polar.set_rticks([0.5,1.0])\n",
    "#     ax_polar.set_yticklabels(['', '0.5'])\n",
    "#     ax_polar.grid(True, color=\"grey\", linestyle=\"--\")    \n",
    "    #ax = fig.add_axes([0,0,bound,bound])\n",
    "    bscatter = ax.scatter(x_bpoints, y_bpoints, c='blue')\n",
    "    rscatter = ax.scatter(x_rpoints, y_rpoints, c='red')\n",
    "    \n",
    "    ax.set_xlim([-bound,bound])\n",
    "    ax.set_ylim([-bound,bound])\n",
    "    ax.set_axis_bgcolor('white')\n",
    "    ax.get_xaxis().set_ticks([])\n",
    "    ax.get_yaxis().set_ticks([])\n",
    "    ax.get_yaxis().set_visible(False)\n",
    "    ax.grid(False)#, color=\"black\", linestyle=\"--\")\n",
    "    \n",
    "    circle1 = plt.Circle((0, 0), radius=0.125, fill=False, linestyle='dashed')\n",
    "    plt.gca().add_patch(circle1)\n",
    "    circle2 = plt.Circle((0, 0), radius=0.25, fill=False, linestyle='dashed')\n",
    "    plt.gca().add_patch(circle2)\n",
    "    ax.plot([0, 1], [0, 1], transform=ax.transAxes, color='k',  linestyle='dashed')\n",
    "    ax.plot([1, 0], [0, 1], transform=ax.transAxes, color='k',  linestyle='dashed')\n",
    "    ax.plot([0,1], [0.5,0.5], transform=ax.transAxes, color='k',  linestyle='dashed')\n",
    "    ax.plot([0.5,0.5], [0,1], transform=ax.transAxes, color='k',  linestyle='dashed')\n",
    "    \n",
    "    ax.plot([0,1], [1,1], transform=ax.transAxes, color='k',  linestyle='solid')\n",
    "    ax.plot([1,1], [0,1], transform=ax.transAxes, color='k',  linestyle='solid')\n",
    "\n",
    "    #plt.legend(handles=[path_red, sal_blue], loc = 'lower left')\n",
    "    tooltip = mpld3.plugins.PointLabelTooltip(bscatter, labels=labels_b)\n",
    "    mpld3.plugins.connect(fig, tooltip)\n",
    "    tooltip = mpld3.plugins.PointLabelTooltip(rscatter, labels=labels_r)\n",
    "    mpld3.plugins.connect(fig, tooltip)\n",
    "    #mpld3.display()\n",
    "    #return fig\n",
    "\n",
    "\n",
    "#     if show_plot:\n",
    "#         plt.show()\n",
    "#     else:\n",
    "#         if use_images:\n",
    "#             plt.savefig(\"plot_%s_vs_%s.pdf\" % (traitX, traitY), dpi=300, format='pdf', bbox_inches='tight')\n",
    "#         else:\n",
    "#             plt.savefig(\"plot_%s_vs_%s_dots.pdf\" % (traitX, traitY), dpi=300, format='pdf', bbox_inches='tight')"
   ]
  },
  {
   "cell_type": "code",
   "execution_count": 491,
   "metadata": {
    "collapsed": false,
    "scrolled": false
   },
   "outputs": [
    {
     "data": {
      "text/html": [
       "\n",
       "\n",
       "<style>\n",
       "\n",
       "</style>\n",
       "\n",
       "<div id=\"fig_el234521404864180467363130985017\"></div>\n",
       "<script>\n",
       "function mpld3_load_lib(url, callback){\n",
       "  var s = document.createElement('script');\n",
       "  s.src = url;\n",
       "  s.async = true;\n",
       "  s.onreadystatechange = s.onload = callback;\n",
       "  s.onerror = function(){console.warn(\"failed to load library \" + url);};\n",
       "  document.getElementsByTagName(\"head\")[0].appendChild(s);\n",
       "}\n",
       "\n",
       "if(typeof(mpld3) !== \"undefined\" && mpld3._mpld3IsLoaded){\n",
       "   // already loaded: just create the figure\n",
       "   !function(mpld3){\n",
       "       \n",
       "       mpld3.draw_figure(\"fig_el234521404864180467363130985017\", {\"axes\": [{\"xlim\": [-0.25, 0.25], \"yscale\": \"linear\", \"axesbg\": \"#FFFFFF\", \"texts\": [], \"zoomable\": true, \"images\": [], \"xdomain\": [-0.25, 0.25], \"ylim\": [-0.25, 0.25], \"paths\": [{\"edgecolor\": \"#000000\", \"facecolor\": \"none\", \"edgewidth\": 1.0, \"pathcodes\": [\"M\", \"C\", \"C\", \"C\", \"C\", \"C\", \"C\", \"C\", \"C\", \"Z\"], \"yindex\": 1, \"coordinates\": \"data\", \"dasharray\": \"6,6\", \"zorder\": 1, \"alpha\": 1, \"xindex\": 0, \"data\": \"data02\", \"id\": \"el23452140486422631696\"}, {\"edgecolor\": \"#000000\", \"facecolor\": \"none\", \"edgewidth\": 1.0, \"pathcodes\": [\"M\", \"C\", \"C\", \"C\", \"C\", \"C\", \"C\", \"C\", \"C\", \"Z\"], \"yindex\": 1, \"coordinates\": \"data\", \"dasharray\": \"6,6\", \"zorder\": 1, \"alpha\": 1, \"xindex\": 0, \"data\": \"data03\", \"id\": \"el23452140486424164560\"}], \"sharey\": [], \"sharex\": [], \"axesbgalpha\": null, \"axes\": [{\"scale\": \"linear\", \"tickformat\": \"\", \"grid\": {\"gridOn\": false}, \"fontsize\": null, \"position\": \"bottom\", \"nticks\": 0, \"tickvalues\": []}, {\"scale\": \"linear\", \"tickformat\": \"\", \"grid\": {\"gridOn\": false}, \"fontsize\": null, \"position\": \"left\", \"nticks\": 0, \"tickvalues\": []}], \"lines\": [{\"color\": \"#000000\", \"yindex\": 1, \"coordinates\": \"axes\", \"dasharray\": \"6,6\", \"zorder\": 2, \"alpha\": 1, \"xindex\": 0, \"linewidth\": 1.0, \"data\": \"data01\", \"id\": \"el23452140486424165840\"}, {\"color\": \"#000000\", \"yindex\": 0, \"coordinates\": \"axes\", \"dasharray\": \"6,6\", \"zorder\": 2, \"alpha\": 1, \"xindex\": 2, \"linewidth\": 1.0, \"data\": \"data01\", \"id\": \"el23452140486424163728\"}, {\"color\": \"#000000\", \"yindex\": 3, \"coordinates\": \"axes\", \"dasharray\": \"6,6\", \"zorder\": 2, \"alpha\": 1, \"xindex\": 0, \"linewidth\": 1.0, \"data\": \"data01\", \"id\": \"el23452140486423959120\"}, {\"color\": \"#000000\", \"yindex\": 0, \"coordinates\": \"axes\", \"dasharray\": \"6,6\", \"zorder\": 2, \"alpha\": 1, \"xindex\": 3, \"linewidth\": 1.0, \"data\": \"data01\", \"id\": \"el23452140486423960720\"}, {\"color\": \"#000000\", \"yindex\": 4, \"coordinates\": \"axes\", \"dasharray\": \"10,0\", \"zorder\": 2, \"alpha\": 1, \"xindex\": 0, \"linewidth\": 1.0, \"data\": \"data01\", \"id\": \"el23452140486424097360\"}, {\"color\": \"#000000\", \"yindex\": 0, \"coordinates\": \"axes\", \"dasharray\": \"10,0\", \"zorder\": 2, \"alpha\": 1, \"xindex\": 4, \"linewidth\": 1.0, \"data\": \"data01\", \"id\": \"el23452140486424098960\"}], \"markers\": [], \"id\": \"el23452140486421970128\", \"ydomain\": [-0.25, 0.25], \"collections\": [{\"paths\": [[[[0.0, -0.5], [0.13260155, -0.5], [0.25978993539242673, -0.44731684579412084], [0.3535533905932738, -0.3535533905932738], [0.44731684579412084, -0.25978993539242673], [0.5, -0.13260155], [0.5, 0.0], [0.5, 0.13260155], [0.44731684579412084, 0.25978993539242673], [0.3535533905932738, 0.3535533905932738], [0.25978993539242673, 0.44731684579412084], [0.13260155, 0.5], [0.0, 0.5], [-0.13260155, 0.5], [-0.25978993539242673, 0.44731684579412084], [-0.3535533905932738, 0.3535533905932738], [-0.44731684579412084, 0.25978993539242673], [-0.5, 0.13260155], [-0.5, 0.0], [-0.5, -0.13260155], [-0.44731684579412084, -0.25978993539242673], [-0.3535533905932738, -0.3535533905932738], [-0.25978993539242673, -0.44731684579412084], [-0.13260155, -0.5], [0.0, -0.5]], [\"M\", \"C\", \"C\", \"C\", \"C\", \"C\", \"C\", \"C\", \"C\", \"Z\"]]], \"edgecolors\": [\"#000000\"], \"edgewidths\": [1.0], \"offsets\": \"data04\", \"yindex\": 1, \"id\": \"el23452140486423246032\", \"pathtransforms\": [[4.969039949999533, 0.0, 0.0, 4.969039949999533, 0.0, 0.0]], \"pathcoordinates\": \"display\", \"offsetcoordinates\": \"data\", \"zorder\": 1, \"xindex\": 0, \"alphas\": [null], \"facecolors\": [\"#0000FF\"]}, {\"paths\": [[[[0.0, -0.5], [0.13260155, -0.5], [0.25978993539242673, -0.44731684579412084], [0.3535533905932738, -0.3535533905932738], [0.44731684579412084, -0.25978993539242673], [0.5, -0.13260155], [0.5, 0.0], [0.5, 0.13260155], [0.44731684579412084, 0.25978993539242673], [0.3535533905932738, 0.3535533905932738], [0.25978993539242673, 0.44731684579412084], [0.13260155, 0.5], [0.0, 0.5], [-0.13260155, 0.5], [-0.25978993539242673, 0.44731684579412084], [-0.3535533905932738, 0.3535533905932738], [-0.44731684579412084, 0.25978993539242673], [-0.5, 0.13260155], [-0.5, 0.0], [-0.5, -0.13260155], [-0.44731684579412084, -0.25978993539242673], [-0.3535533905932738, -0.3535533905932738], [-0.25978993539242673, -0.44731684579412084], [-0.13260155, -0.5], [0.0, -0.5]], [\"M\", \"C\", \"C\", \"C\", \"C\", \"C\", \"C\", \"C\", \"C\", \"Z\"]]], \"edgecolors\": [\"#000000\"], \"edgewidths\": [1.0], \"offsets\": \"data05\", \"yindex\": 1, \"id\": \"el23452140486423248272\", \"pathtransforms\": [[4.969039949999533, 0.0, 0.0, 4.969039949999533, 0.0, 0.0]], \"pathcoordinates\": \"display\", \"offsetcoordinates\": \"data\", \"zorder\": 1, \"xindex\": 0, \"alphas\": [null], \"facecolors\": [\"#FF0000\"]}], \"xscale\": \"linear\", \"bbox\": [0.125, 0.125, 0.77500000000000002, 0.77500000000000002]}], \"height\": 800.0, \"width\": 800.0, \"plugins\": [{\"type\": \"reset\"}, {\"enabled\": false, \"button\": true, \"type\": \"zoom\"}, {\"enabled\": false, \"button\": true, \"type\": \"boxzoom\"}, {\"voffset\": 10, \"labels\": [\"family, friends, wonderful, blessed, amazing\", \"prayers, family, thoughts, pray, families\", \"beautiful, love, girl, wonderful, loving\", \"god, gave, world, son, loved\", \"love, sister, friend, world, beautiful\", \"ways, god, works, miracle, mysterious\", \"love, friends, family, guys, miss\", \"son, daughter, father, mother, proud\", \"minute, loved, born, knew, die\", \"love, true, unconditional, lust, pure\", \"god, bless, trust, praise, america\", \"day, wonderful, hope, great, blessed\", \"family, friends, reunion, guy, members\", \"friend, true, doesn't, perfect, care\", \"dad, mom, proud, hero, blessed\", \"world, felt, things, beautiful, heart\", \"love, yo, adore, xoxo, admire\", \"friends, cousins, family, crazy, understand\", \"things, life, realize, matter, granted\", \"strength, overcome, faith, challenges, strong\", \"heart, love, soul, mind, forever\", \"hold, heart, son, week, lifetime\", \"love, miss, mwah, lots, xo\", \"god, created, made, image, create\", \"friend, friends, true, friendship, lover\"], \"hoffset\": 0, \"location\": \"mouse\", \"type\": \"tooltip\", \"id\": \"el23452140486423246032\"}, {\"voffset\": 10, \"labels\": [\"miss, put, wanna, single, cute\", \"cry, make, laugh, smile, makes\", \"dont, wanna, talk, leave, anymore\", \"school, ugh, homework, sucks, boring\", \":(, sad, miss, sob, ;(\", \"feels, weird, kinda, feel, feeling\", \"sleep, can't, tired, ugh, insomnia\", \"feel, felt, bad, real, earthquake\", \"im, dont, anymore, idk, confused\", \"mood, bad, puts, swings, ruin\", \"hate, ugh, :(, grrrrr, officially\", \"wanna, don't, stay, touch, hear\", \"wanna, dont, join, hang, chill\", \"im, bored, tired, sooo, hungry\", \"boyfriend, girlfriend, bf, gf, amazing\", \"wanna, bad, swear, freakin, buy\", \"im, gonna, survive, strongest, intelligent\", \"good, mood, bad, pretty, surprisingly\", \"can't, anymore, don't, stand, handle\", \"im, glad, dont, ive, scared\", \"mom, yrs, wanna, house, years\", \"lonely, feel, feeling, sad, depressed\", \"miss, :(, misses, alot, buddies\", \"baby, girl, boy, beautiful, cousin\", \")=, cute, i'd, date, kiss\"], \"hoffset\": 0, \"location\": \"mouse\", \"type\": \"tooltip\", \"id\": \"el23452140486423248272\"}], \"data\": {\"data04\": [[0.19043985234544716, 0.12347474060791679], [0.12181006531698332, 0.05296580209378356], [0.12522896186081797, 0.11676229213782413], [0.08885886304326854, 0.06129596021165903], [0.10297790366453147, 0.07790516197842227], [0.05733682955325506, 0.005389557924005386], [0.15405836589455868, 0.15797973005961258], [0.0590243228630467, 0.029293321311883436], [0.07026054058956561, 0.016318693722392943], [0.08064150243606301, 0.1121532350565033], [0.07895062269052049, 0.05058238482935959], [0.18013131326584841, 0.10069628779935386], [0.12394994528635014, 0.05042321805347218], [0.07638813588674519, 0.020289503644215993], [0.09069321025818147, 0.022061058167955987], [0.053825668567410924, 0.04377944589000237], [0.08222293277131659, 0.1423816634084569], [0.09572796133049889, 0.03466744059882414], [0.07755573270189654, 0.03926450339027016], [0.06545896307744531, 0.018889024887414688], [0.05865468744258978, 0.05266101646882689], [0.080216803218976, 0.029560378254173472], [0.06976917817655895, 0.09948876124689778], [0.032417645028246185, 0.013169184160950673], [0.06643354598338702, 0.03987925721486654]], \"data05\": [[0.03523844425420831, 0.0855244389113024], [0.02394132523200364, 0.01798053740732117], [-0.05059957232201312, 0.06060887579551254], [-0.01747016786428848, -0.05189565899653085], [0.004039113469640042, 0.001180807061839461], [-0.005416125418609846, -0.05694191099270269], [0.008663691500858026, -0.06434943926973667], [0.021376789689024813, -0.017487756689128192], [-0.03266229176370399, 0.06593297939051901], [-0.01551908445900835, -0.010015239593006802], [-0.053411292999490045, -0.03338411764773022], [-0.05292411439170619, -0.010670478158382795], [-0.03945428279662152, 0.04717002152950036], [-0.0022166176203264987, 0.029508618485664176], [0.011369710884437983, 0.06914893144928869], [-0.04268623234968514, 0.03654836108196781], [-0.018796187948996297, 0.08828778649874797], [0.026674019845030542, 0.006490514967425802], [-0.018285496868271665, -0.06001062160548926], [-0.005551446329075519, 0.09039649214548318], [0.032331635679504526, 0.0022289062246419206], [-0.0011366238827724712, -0.06784235339238087], [0.019064809599005847, 0.029254898054818363], [0.036838860931780515, 0.10444405861732986], [0.005442614110606596, 0.021548217036265815]], \"data02\": [[0.0, -0.125], [0.0331503875, -0.125], [0.06494748384810668, -0.11182921144853021], [0.08838834764831845, -0.08838834764831845], [0.11182921144853021, -0.06494748384810668], [0.125, -0.0331503875], [0.125, 0.0], [0.125, 0.0331503875], [0.11182921144853021, 0.06494748384810668], [0.08838834764831845, 0.08838834764831845], [0.06494748384810668, 0.11182921144853021], [0.0331503875, 0.125], [0.0, 0.125], [-0.0331503875, 0.125], [-0.06494748384810668, 0.11182921144853021], [-0.08838834764831845, 0.08838834764831845], [-0.11182921144853021, 0.06494748384810668], [-0.125, 0.0331503875], [-0.125, 0.0], [-0.125, -0.0331503875], [-0.11182921144853021, -0.06494748384810668], [-0.08838834764831845, -0.08838834764831845], [-0.06494748384810668, -0.11182921144853021], [-0.0331503875, -0.125], [0.0, -0.125]], \"data03\": [[0.0, -0.25], [0.066300775, -0.25], [0.12989496769621336, -0.22365842289706042], [0.1767766952966369, -0.1767766952966369], [0.22365842289706042, -0.12989496769621336], [0.25, -0.066300775], [0.25, 0.0], [0.25, 0.066300775], [0.22365842289706042, 0.12989496769621336], [0.1767766952966369, 0.1767766952966369], [0.12989496769621336, 0.22365842289706042], [0.066300775, 0.25], [0.0, 0.25], [-0.066300775, 0.25], [-0.12989496769621336, 0.22365842289706042], [-0.1767766952966369, 0.1767766952966369], [-0.22365842289706042, 0.12989496769621336], [-0.25, 0.066300775], [-0.25, 0.0], [-0.25, -0.066300775], [-0.22365842289706042, -0.12989496769621336], [-0.1767766952966369, -0.1767766952966369], [-0.12989496769621336, -0.22365842289706042], [-0.066300775, -0.25], [0.0, -0.25]], \"data01\": [[0.0, 0.0, 1.0, 0.5, 1.0], [1.0, 1.0, 0.0, 0.5, 1.0]]}, \"id\": \"el23452140486418046736\"});\n",
       "   }(mpld3);\n",
       "}else if(typeof define === \"function\" && define.amd){\n",
       "   // require.js is available: use it to load d3/mpld3\n",
       "   require.config({paths: {d3: \"https://mpld3.github.io/js/d3.v3.min\"}});\n",
       "   require([\"d3\"], function(d3){\n",
       "      window.d3 = d3;\n",
       "      mpld3_load_lib(\"https://mpld3.github.io/js/mpld3.v0.2.js\", function(){\n",
       "         \n",
       "         mpld3.draw_figure(\"fig_el234521404864180467363130985017\", {\"axes\": [{\"xlim\": [-0.25, 0.25], \"yscale\": \"linear\", \"axesbg\": \"#FFFFFF\", \"texts\": [], \"zoomable\": true, \"images\": [], \"xdomain\": [-0.25, 0.25], \"ylim\": [-0.25, 0.25], \"paths\": [{\"edgecolor\": \"#000000\", \"facecolor\": \"none\", \"edgewidth\": 1.0, \"pathcodes\": [\"M\", \"C\", \"C\", \"C\", \"C\", \"C\", \"C\", \"C\", \"C\", \"Z\"], \"yindex\": 1, \"coordinates\": \"data\", \"dasharray\": \"6,6\", \"zorder\": 1, \"alpha\": 1, \"xindex\": 0, \"data\": \"data02\", \"id\": \"el23452140486422631696\"}, {\"edgecolor\": \"#000000\", \"facecolor\": \"none\", \"edgewidth\": 1.0, \"pathcodes\": [\"M\", \"C\", \"C\", \"C\", \"C\", \"C\", \"C\", \"C\", \"C\", \"Z\"], \"yindex\": 1, \"coordinates\": \"data\", \"dasharray\": \"6,6\", \"zorder\": 1, \"alpha\": 1, \"xindex\": 0, \"data\": \"data03\", \"id\": \"el23452140486424164560\"}], \"sharey\": [], \"sharex\": [], \"axesbgalpha\": null, \"axes\": [{\"scale\": \"linear\", \"tickformat\": \"\", \"grid\": {\"gridOn\": false}, \"fontsize\": null, \"position\": \"bottom\", \"nticks\": 0, \"tickvalues\": []}, {\"scale\": \"linear\", \"tickformat\": \"\", \"grid\": {\"gridOn\": false}, \"fontsize\": null, \"position\": \"left\", \"nticks\": 0, \"tickvalues\": []}], \"lines\": [{\"color\": \"#000000\", \"yindex\": 1, \"coordinates\": \"axes\", \"dasharray\": \"6,6\", \"zorder\": 2, \"alpha\": 1, \"xindex\": 0, \"linewidth\": 1.0, \"data\": \"data01\", \"id\": \"el23452140486424165840\"}, {\"color\": \"#000000\", \"yindex\": 0, \"coordinates\": \"axes\", \"dasharray\": \"6,6\", \"zorder\": 2, \"alpha\": 1, \"xindex\": 2, \"linewidth\": 1.0, \"data\": \"data01\", \"id\": \"el23452140486424163728\"}, {\"color\": \"#000000\", \"yindex\": 3, \"coordinates\": \"axes\", \"dasharray\": \"6,6\", \"zorder\": 2, \"alpha\": 1, \"xindex\": 0, \"linewidth\": 1.0, \"data\": \"data01\", \"id\": \"el23452140486423959120\"}, {\"color\": \"#000000\", \"yindex\": 0, \"coordinates\": \"axes\", \"dasharray\": \"6,6\", \"zorder\": 2, \"alpha\": 1, \"xindex\": 3, \"linewidth\": 1.0, \"data\": \"data01\", \"id\": \"el23452140486423960720\"}, {\"color\": \"#000000\", \"yindex\": 4, \"coordinates\": \"axes\", \"dasharray\": \"10,0\", \"zorder\": 2, \"alpha\": 1, \"xindex\": 0, \"linewidth\": 1.0, \"data\": \"data01\", \"id\": \"el23452140486424097360\"}, {\"color\": \"#000000\", \"yindex\": 0, \"coordinates\": \"axes\", \"dasharray\": \"10,0\", \"zorder\": 2, \"alpha\": 1, \"xindex\": 4, \"linewidth\": 1.0, \"data\": \"data01\", \"id\": \"el23452140486424098960\"}], \"markers\": [], \"id\": \"el23452140486421970128\", \"ydomain\": [-0.25, 0.25], \"collections\": [{\"paths\": [[[[0.0, -0.5], [0.13260155, -0.5], [0.25978993539242673, -0.44731684579412084], [0.3535533905932738, -0.3535533905932738], [0.44731684579412084, -0.25978993539242673], [0.5, -0.13260155], [0.5, 0.0], [0.5, 0.13260155], [0.44731684579412084, 0.25978993539242673], [0.3535533905932738, 0.3535533905932738], [0.25978993539242673, 0.44731684579412084], [0.13260155, 0.5], [0.0, 0.5], [-0.13260155, 0.5], [-0.25978993539242673, 0.44731684579412084], [-0.3535533905932738, 0.3535533905932738], [-0.44731684579412084, 0.25978993539242673], [-0.5, 0.13260155], [-0.5, 0.0], [-0.5, -0.13260155], [-0.44731684579412084, -0.25978993539242673], [-0.3535533905932738, -0.3535533905932738], [-0.25978993539242673, -0.44731684579412084], [-0.13260155, -0.5], [0.0, -0.5]], [\"M\", \"C\", \"C\", \"C\", \"C\", \"C\", \"C\", \"C\", \"C\", \"Z\"]]], \"edgecolors\": [\"#000000\"], \"edgewidths\": [1.0], \"offsets\": \"data04\", \"yindex\": 1, \"id\": \"el23452140486423246032\", \"pathtransforms\": [[4.969039949999533, 0.0, 0.0, 4.969039949999533, 0.0, 0.0]], \"pathcoordinates\": \"display\", \"offsetcoordinates\": \"data\", \"zorder\": 1, \"xindex\": 0, \"alphas\": [null], \"facecolors\": [\"#0000FF\"]}, {\"paths\": [[[[0.0, -0.5], [0.13260155, -0.5], [0.25978993539242673, -0.44731684579412084], [0.3535533905932738, -0.3535533905932738], [0.44731684579412084, -0.25978993539242673], [0.5, -0.13260155], [0.5, 0.0], [0.5, 0.13260155], [0.44731684579412084, 0.25978993539242673], [0.3535533905932738, 0.3535533905932738], [0.25978993539242673, 0.44731684579412084], [0.13260155, 0.5], [0.0, 0.5], [-0.13260155, 0.5], [-0.25978993539242673, 0.44731684579412084], [-0.3535533905932738, 0.3535533905932738], [-0.44731684579412084, 0.25978993539242673], [-0.5, 0.13260155], [-0.5, 0.0], [-0.5, -0.13260155], [-0.44731684579412084, -0.25978993539242673], [-0.3535533905932738, -0.3535533905932738], [-0.25978993539242673, -0.44731684579412084], [-0.13260155, -0.5], [0.0, -0.5]], [\"M\", \"C\", \"C\", \"C\", \"C\", \"C\", \"C\", \"C\", \"C\", \"Z\"]]], \"edgecolors\": [\"#000000\"], \"edgewidths\": [1.0], \"offsets\": \"data05\", \"yindex\": 1, \"id\": \"el23452140486423248272\", \"pathtransforms\": [[4.969039949999533, 0.0, 0.0, 4.969039949999533, 0.0, 0.0]], \"pathcoordinates\": \"display\", \"offsetcoordinates\": \"data\", \"zorder\": 1, \"xindex\": 0, \"alphas\": [null], \"facecolors\": [\"#FF0000\"]}], \"xscale\": \"linear\", \"bbox\": [0.125, 0.125, 0.77500000000000002, 0.77500000000000002]}], \"height\": 800.0, \"width\": 800.0, \"plugins\": [{\"type\": \"reset\"}, {\"enabled\": false, \"button\": true, \"type\": \"zoom\"}, {\"enabled\": false, \"button\": true, \"type\": \"boxzoom\"}, {\"voffset\": 10, \"labels\": [\"family, friends, wonderful, blessed, amazing\", \"prayers, family, thoughts, pray, families\", \"beautiful, love, girl, wonderful, loving\", \"god, gave, world, son, loved\", \"love, sister, friend, world, beautiful\", \"ways, god, works, miracle, mysterious\", \"love, friends, family, guys, miss\", \"son, daughter, father, mother, proud\", \"minute, loved, born, knew, die\", \"love, true, unconditional, lust, pure\", \"god, bless, trust, praise, america\", \"day, wonderful, hope, great, blessed\", \"family, friends, reunion, guy, members\", \"friend, true, doesn't, perfect, care\", \"dad, mom, proud, hero, blessed\", \"world, felt, things, beautiful, heart\", \"love, yo, adore, xoxo, admire\", \"friends, cousins, family, crazy, understand\", \"things, life, realize, matter, granted\", \"strength, overcome, faith, challenges, strong\", \"heart, love, soul, mind, forever\", \"hold, heart, son, week, lifetime\", \"love, miss, mwah, lots, xo\", \"god, created, made, image, create\", \"friend, friends, true, friendship, lover\"], \"hoffset\": 0, \"location\": \"mouse\", \"type\": \"tooltip\", \"id\": \"el23452140486423246032\"}, {\"voffset\": 10, \"labels\": [\"miss, put, wanna, single, cute\", \"cry, make, laugh, smile, makes\", \"dont, wanna, talk, leave, anymore\", \"school, ugh, homework, sucks, boring\", \":(, sad, miss, sob, ;(\", \"feels, weird, kinda, feel, feeling\", \"sleep, can't, tired, ugh, insomnia\", \"feel, felt, bad, real, earthquake\", \"im, dont, anymore, idk, confused\", \"mood, bad, puts, swings, ruin\", \"hate, ugh, :(, grrrrr, officially\", \"wanna, don't, stay, touch, hear\", \"wanna, dont, join, hang, chill\", \"im, bored, tired, sooo, hungry\", \"boyfriend, girlfriend, bf, gf, amazing\", \"wanna, bad, swear, freakin, buy\", \"im, gonna, survive, strongest, intelligent\", \"good, mood, bad, pretty, surprisingly\", \"can't, anymore, don't, stand, handle\", \"im, glad, dont, ive, scared\", \"mom, yrs, wanna, house, years\", \"lonely, feel, feeling, sad, depressed\", \"miss, :(, misses, alot, buddies\", \"baby, girl, boy, beautiful, cousin\", \")=, cute, i'd, date, kiss\"], \"hoffset\": 0, \"location\": \"mouse\", \"type\": \"tooltip\", \"id\": \"el23452140486423248272\"}], \"data\": {\"data04\": [[0.19043985234544716, 0.12347474060791679], [0.12181006531698332, 0.05296580209378356], [0.12522896186081797, 0.11676229213782413], [0.08885886304326854, 0.06129596021165903], [0.10297790366453147, 0.07790516197842227], [0.05733682955325506, 0.005389557924005386], [0.15405836589455868, 0.15797973005961258], [0.0590243228630467, 0.029293321311883436], [0.07026054058956561, 0.016318693722392943], [0.08064150243606301, 0.1121532350565033], [0.07895062269052049, 0.05058238482935959], [0.18013131326584841, 0.10069628779935386], [0.12394994528635014, 0.05042321805347218], [0.07638813588674519, 0.020289503644215993], [0.09069321025818147, 0.022061058167955987], [0.053825668567410924, 0.04377944589000237], [0.08222293277131659, 0.1423816634084569], [0.09572796133049889, 0.03466744059882414], [0.07755573270189654, 0.03926450339027016], [0.06545896307744531, 0.018889024887414688], [0.05865468744258978, 0.05266101646882689], [0.080216803218976, 0.029560378254173472], [0.06976917817655895, 0.09948876124689778], [0.032417645028246185, 0.013169184160950673], [0.06643354598338702, 0.03987925721486654]], \"data05\": [[0.03523844425420831, 0.0855244389113024], [0.02394132523200364, 0.01798053740732117], [-0.05059957232201312, 0.06060887579551254], [-0.01747016786428848, -0.05189565899653085], [0.004039113469640042, 0.001180807061839461], [-0.005416125418609846, -0.05694191099270269], [0.008663691500858026, -0.06434943926973667], [0.021376789689024813, -0.017487756689128192], [-0.03266229176370399, 0.06593297939051901], [-0.01551908445900835, -0.010015239593006802], [-0.053411292999490045, -0.03338411764773022], [-0.05292411439170619, -0.010670478158382795], [-0.03945428279662152, 0.04717002152950036], [-0.0022166176203264987, 0.029508618485664176], [0.011369710884437983, 0.06914893144928869], [-0.04268623234968514, 0.03654836108196781], [-0.018796187948996297, 0.08828778649874797], [0.026674019845030542, 0.006490514967425802], [-0.018285496868271665, -0.06001062160548926], [-0.005551446329075519, 0.09039649214548318], [0.032331635679504526, 0.0022289062246419206], [-0.0011366238827724712, -0.06784235339238087], [0.019064809599005847, 0.029254898054818363], [0.036838860931780515, 0.10444405861732986], [0.005442614110606596, 0.021548217036265815]], \"data02\": [[0.0, -0.125], [0.0331503875, -0.125], [0.06494748384810668, -0.11182921144853021], [0.08838834764831845, -0.08838834764831845], [0.11182921144853021, -0.06494748384810668], [0.125, -0.0331503875], [0.125, 0.0], [0.125, 0.0331503875], [0.11182921144853021, 0.06494748384810668], [0.08838834764831845, 0.08838834764831845], [0.06494748384810668, 0.11182921144853021], [0.0331503875, 0.125], [0.0, 0.125], [-0.0331503875, 0.125], [-0.06494748384810668, 0.11182921144853021], [-0.08838834764831845, 0.08838834764831845], [-0.11182921144853021, 0.06494748384810668], [-0.125, 0.0331503875], [-0.125, 0.0], [-0.125, -0.0331503875], [-0.11182921144853021, -0.06494748384810668], [-0.08838834764831845, -0.08838834764831845], [-0.06494748384810668, -0.11182921144853021], [-0.0331503875, -0.125], [0.0, -0.125]], \"data03\": [[0.0, -0.25], [0.066300775, -0.25], [0.12989496769621336, -0.22365842289706042], [0.1767766952966369, -0.1767766952966369], [0.22365842289706042, -0.12989496769621336], [0.25, -0.066300775], [0.25, 0.0], [0.25, 0.066300775], [0.22365842289706042, 0.12989496769621336], [0.1767766952966369, 0.1767766952966369], [0.12989496769621336, 0.22365842289706042], [0.066300775, 0.25], [0.0, 0.25], [-0.066300775, 0.25], [-0.12989496769621336, 0.22365842289706042], [-0.1767766952966369, 0.1767766952966369], [-0.22365842289706042, 0.12989496769621336], [-0.25, 0.066300775], [-0.25, 0.0], [-0.25, -0.066300775], [-0.22365842289706042, -0.12989496769621336], [-0.1767766952966369, -0.1767766952966369], [-0.12989496769621336, -0.22365842289706042], [-0.066300775, -0.25], [0.0, -0.25]], \"data01\": [[0.0, 0.0, 1.0, 0.5, 1.0], [1.0, 1.0, 0.0, 0.5, 1.0]]}, \"id\": \"el23452140486418046736\"});\n",
       "      });\n",
       "    });\n",
       "}else{\n",
       "    // require.js not available: dynamically load d3 & mpld3\n",
       "    mpld3_load_lib(\"https://mpld3.github.io/js/d3.v3.min.js\", function(){\n",
       "         mpld3_load_lib(\"https://mpld3.github.io/js/mpld3.v0.2.js\", function(){\n",
       "                 \n",
       "                 mpld3.draw_figure(\"fig_el234521404864180467363130985017\", {\"axes\": [{\"xlim\": [-0.25, 0.25], \"yscale\": \"linear\", \"axesbg\": \"#FFFFFF\", \"texts\": [], \"zoomable\": true, \"images\": [], \"xdomain\": [-0.25, 0.25], \"ylim\": [-0.25, 0.25], \"paths\": [{\"edgecolor\": \"#000000\", \"facecolor\": \"none\", \"edgewidth\": 1.0, \"pathcodes\": [\"M\", \"C\", \"C\", \"C\", \"C\", \"C\", \"C\", \"C\", \"C\", \"Z\"], \"yindex\": 1, \"coordinates\": \"data\", \"dasharray\": \"6,6\", \"zorder\": 1, \"alpha\": 1, \"xindex\": 0, \"data\": \"data02\", \"id\": \"el23452140486422631696\"}, {\"edgecolor\": \"#000000\", \"facecolor\": \"none\", \"edgewidth\": 1.0, \"pathcodes\": [\"M\", \"C\", \"C\", \"C\", \"C\", \"C\", \"C\", \"C\", \"C\", \"Z\"], \"yindex\": 1, \"coordinates\": \"data\", \"dasharray\": \"6,6\", \"zorder\": 1, \"alpha\": 1, \"xindex\": 0, \"data\": \"data03\", \"id\": \"el23452140486424164560\"}], \"sharey\": [], \"sharex\": [], \"axesbgalpha\": null, \"axes\": [{\"scale\": \"linear\", \"tickformat\": \"\", \"grid\": {\"gridOn\": false}, \"fontsize\": null, \"position\": \"bottom\", \"nticks\": 0, \"tickvalues\": []}, {\"scale\": \"linear\", \"tickformat\": \"\", \"grid\": {\"gridOn\": false}, \"fontsize\": null, \"position\": \"left\", \"nticks\": 0, \"tickvalues\": []}], \"lines\": [{\"color\": \"#000000\", \"yindex\": 1, \"coordinates\": \"axes\", \"dasharray\": \"6,6\", \"zorder\": 2, \"alpha\": 1, \"xindex\": 0, \"linewidth\": 1.0, \"data\": \"data01\", \"id\": \"el23452140486424165840\"}, {\"color\": \"#000000\", \"yindex\": 0, \"coordinates\": \"axes\", \"dasharray\": \"6,6\", \"zorder\": 2, \"alpha\": 1, \"xindex\": 2, \"linewidth\": 1.0, \"data\": \"data01\", \"id\": \"el23452140486424163728\"}, {\"color\": \"#000000\", \"yindex\": 3, \"coordinates\": \"axes\", \"dasharray\": \"6,6\", \"zorder\": 2, \"alpha\": 1, \"xindex\": 0, \"linewidth\": 1.0, \"data\": \"data01\", \"id\": \"el23452140486423959120\"}, {\"color\": \"#000000\", \"yindex\": 0, \"coordinates\": \"axes\", \"dasharray\": \"6,6\", \"zorder\": 2, \"alpha\": 1, \"xindex\": 3, \"linewidth\": 1.0, \"data\": \"data01\", \"id\": \"el23452140486423960720\"}, {\"color\": \"#000000\", \"yindex\": 4, \"coordinates\": \"axes\", \"dasharray\": \"10,0\", \"zorder\": 2, \"alpha\": 1, \"xindex\": 0, \"linewidth\": 1.0, \"data\": \"data01\", \"id\": \"el23452140486424097360\"}, {\"color\": \"#000000\", \"yindex\": 0, \"coordinates\": \"axes\", \"dasharray\": \"10,0\", \"zorder\": 2, \"alpha\": 1, \"xindex\": 4, \"linewidth\": 1.0, \"data\": \"data01\", \"id\": \"el23452140486424098960\"}], \"markers\": [], \"id\": \"el23452140486421970128\", \"ydomain\": [-0.25, 0.25], \"collections\": [{\"paths\": [[[[0.0, -0.5], [0.13260155, -0.5], [0.25978993539242673, -0.44731684579412084], [0.3535533905932738, -0.3535533905932738], [0.44731684579412084, -0.25978993539242673], [0.5, -0.13260155], [0.5, 0.0], [0.5, 0.13260155], [0.44731684579412084, 0.25978993539242673], [0.3535533905932738, 0.3535533905932738], [0.25978993539242673, 0.44731684579412084], [0.13260155, 0.5], [0.0, 0.5], [-0.13260155, 0.5], [-0.25978993539242673, 0.44731684579412084], [-0.3535533905932738, 0.3535533905932738], [-0.44731684579412084, 0.25978993539242673], [-0.5, 0.13260155], [-0.5, 0.0], [-0.5, -0.13260155], [-0.44731684579412084, -0.25978993539242673], [-0.3535533905932738, -0.3535533905932738], [-0.25978993539242673, -0.44731684579412084], [-0.13260155, -0.5], [0.0, -0.5]], [\"M\", \"C\", \"C\", \"C\", \"C\", \"C\", \"C\", \"C\", \"C\", \"Z\"]]], \"edgecolors\": [\"#000000\"], \"edgewidths\": [1.0], \"offsets\": \"data04\", \"yindex\": 1, \"id\": \"el23452140486423246032\", \"pathtransforms\": [[4.969039949999533, 0.0, 0.0, 4.969039949999533, 0.0, 0.0]], \"pathcoordinates\": \"display\", \"offsetcoordinates\": \"data\", \"zorder\": 1, \"xindex\": 0, \"alphas\": [null], \"facecolors\": [\"#0000FF\"]}, {\"paths\": [[[[0.0, -0.5], [0.13260155, -0.5], [0.25978993539242673, -0.44731684579412084], [0.3535533905932738, -0.3535533905932738], [0.44731684579412084, -0.25978993539242673], [0.5, -0.13260155], [0.5, 0.0], [0.5, 0.13260155], [0.44731684579412084, 0.25978993539242673], [0.3535533905932738, 0.3535533905932738], [0.25978993539242673, 0.44731684579412084], [0.13260155, 0.5], [0.0, 0.5], [-0.13260155, 0.5], [-0.25978993539242673, 0.44731684579412084], [-0.3535533905932738, 0.3535533905932738], [-0.44731684579412084, 0.25978993539242673], [-0.5, 0.13260155], [-0.5, 0.0], [-0.5, -0.13260155], [-0.44731684579412084, -0.25978993539242673], [-0.3535533905932738, -0.3535533905932738], [-0.25978993539242673, -0.44731684579412084], [-0.13260155, -0.5], [0.0, -0.5]], [\"M\", \"C\", \"C\", \"C\", \"C\", \"C\", \"C\", \"C\", \"C\", \"Z\"]]], \"edgecolors\": [\"#000000\"], \"edgewidths\": [1.0], \"offsets\": \"data05\", \"yindex\": 1, \"id\": \"el23452140486423248272\", \"pathtransforms\": [[4.969039949999533, 0.0, 0.0, 4.969039949999533, 0.0, 0.0]], \"pathcoordinates\": \"display\", \"offsetcoordinates\": \"data\", \"zorder\": 1, \"xindex\": 0, \"alphas\": [null], \"facecolors\": [\"#FF0000\"]}], \"xscale\": \"linear\", \"bbox\": [0.125, 0.125, 0.77500000000000002, 0.77500000000000002]}], \"height\": 800.0, \"width\": 800.0, \"plugins\": [{\"type\": \"reset\"}, {\"enabled\": false, \"button\": true, \"type\": \"zoom\"}, {\"enabled\": false, \"button\": true, \"type\": \"boxzoom\"}, {\"voffset\": 10, \"labels\": [\"family, friends, wonderful, blessed, amazing\", \"prayers, family, thoughts, pray, families\", \"beautiful, love, girl, wonderful, loving\", \"god, gave, world, son, loved\", \"love, sister, friend, world, beautiful\", \"ways, god, works, miracle, mysterious\", \"love, friends, family, guys, miss\", \"son, daughter, father, mother, proud\", \"minute, loved, born, knew, die\", \"love, true, unconditional, lust, pure\", \"god, bless, trust, praise, america\", \"day, wonderful, hope, great, blessed\", \"family, friends, reunion, guy, members\", \"friend, true, doesn't, perfect, care\", \"dad, mom, proud, hero, blessed\", \"world, felt, things, beautiful, heart\", \"love, yo, adore, xoxo, admire\", \"friends, cousins, family, crazy, understand\", \"things, life, realize, matter, granted\", \"strength, overcome, faith, challenges, strong\", \"heart, love, soul, mind, forever\", \"hold, heart, son, week, lifetime\", \"love, miss, mwah, lots, xo\", \"god, created, made, image, create\", \"friend, friends, true, friendship, lover\"], \"hoffset\": 0, \"location\": \"mouse\", \"type\": \"tooltip\", \"id\": \"el23452140486423246032\"}, {\"voffset\": 10, \"labels\": [\"miss, put, wanna, single, cute\", \"cry, make, laugh, smile, makes\", \"dont, wanna, talk, leave, anymore\", \"school, ugh, homework, sucks, boring\", \":(, sad, miss, sob, ;(\", \"feels, weird, kinda, feel, feeling\", \"sleep, can't, tired, ugh, insomnia\", \"feel, felt, bad, real, earthquake\", \"im, dont, anymore, idk, confused\", \"mood, bad, puts, swings, ruin\", \"hate, ugh, :(, grrrrr, officially\", \"wanna, don't, stay, touch, hear\", \"wanna, dont, join, hang, chill\", \"im, bored, tired, sooo, hungry\", \"boyfriend, girlfriend, bf, gf, amazing\", \"wanna, bad, swear, freakin, buy\", \"im, gonna, survive, strongest, intelligent\", \"good, mood, bad, pretty, surprisingly\", \"can't, anymore, don't, stand, handle\", \"im, glad, dont, ive, scared\", \"mom, yrs, wanna, house, years\", \"lonely, feel, feeling, sad, depressed\", \"miss, :(, misses, alot, buddies\", \"baby, girl, boy, beautiful, cousin\", \")=, cute, i'd, date, kiss\"], \"hoffset\": 0, \"location\": \"mouse\", \"type\": \"tooltip\", \"id\": \"el23452140486423248272\"}], \"data\": {\"data04\": [[0.19043985234544716, 0.12347474060791679], [0.12181006531698332, 0.05296580209378356], [0.12522896186081797, 0.11676229213782413], [0.08885886304326854, 0.06129596021165903], [0.10297790366453147, 0.07790516197842227], [0.05733682955325506, 0.005389557924005386], [0.15405836589455868, 0.15797973005961258], [0.0590243228630467, 0.029293321311883436], [0.07026054058956561, 0.016318693722392943], [0.08064150243606301, 0.1121532350565033], [0.07895062269052049, 0.05058238482935959], [0.18013131326584841, 0.10069628779935386], [0.12394994528635014, 0.05042321805347218], [0.07638813588674519, 0.020289503644215993], [0.09069321025818147, 0.022061058167955987], [0.053825668567410924, 0.04377944589000237], [0.08222293277131659, 0.1423816634084569], [0.09572796133049889, 0.03466744059882414], [0.07755573270189654, 0.03926450339027016], [0.06545896307744531, 0.018889024887414688], [0.05865468744258978, 0.05266101646882689], [0.080216803218976, 0.029560378254173472], [0.06976917817655895, 0.09948876124689778], [0.032417645028246185, 0.013169184160950673], [0.06643354598338702, 0.03987925721486654]], \"data05\": [[0.03523844425420831, 0.0855244389113024], [0.02394132523200364, 0.01798053740732117], [-0.05059957232201312, 0.06060887579551254], [-0.01747016786428848, -0.05189565899653085], [0.004039113469640042, 0.001180807061839461], [-0.005416125418609846, -0.05694191099270269], [0.008663691500858026, -0.06434943926973667], [0.021376789689024813, -0.017487756689128192], [-0.03266229176370399, 0.06593297939051901], [-0.01551908445900835, -0.010015239593006802], [-0.053411292999490045, -0.03338411764773022], [-0.05292411439170619, -0.010670478158382795], [-0.03945428279662152, 0.04717002152950036], [-0.0022166176203264987, 0.029508618485664176], [0.011369710884437983, 0.06914893144928869], [-0.04268623234968514, 0.03654836108196781], [-0.018796187948996297, 0.08828778649874797], [0.026674019845030542, 0.006490514967425802], [-0.018285496868271665, -0.06001062160548926], [-0.005551446329075519, 0.09039649214548318], [0.032331635679504526, 0.0022289062246419206], [-0.0011366238827724712, -0.06784235339238087], [0.019064809599005847, 0.029254898054818363], [0.036838860931780515, 0.10444405861732986], [0.005442614110606596, 0.021548217036265815]], \"data02\": [[0.0, -0.125], [0.0331503875, -0.125], [0.06494748384810668, -0.11182921144853021], [0.08838834764831845, -0.08838834764831845], [0.11182921144853021, -0.06494748384810668], [0.125, -0.0331503875], [0.125, 0.0], [0.125, 0.0331503875], [0.11182921144853021, 0.06494748384810668], [0.08838834764831845, 0.08838834764831845], [0.06494748384810668, 0.11182921144853021], [0.0331503875, 0.125], [0.0, 0.125], [-0.0331503875, 0.125], [-0.06494748384810668, 0.11182921144853021], [-0.08838834764831845, 0.08838834764831845], [-0.11182921144853021, 0.06494748384810668], [-0.125, 0.0331503875], [-0.125, 0.0], [-0.125, -0.0331503875], [-0.11182921144853021, -0.06494748384810668], [-0.08838834764831845, -0.08838834764831845], [-0.06494748384810668, -0.11182921144853021], [-0.0331503875, -0.125], [0.0, -0.125]], \"data03\": [[0.0, -0.25], [0.066300775, -0.25], [0.12989496769621336, -0.22365842289706042], [0.1767766952966369, -0.1767766952966369], [0.22365842289706042, -0.12989496769621336], [0.25, -0.066300775], [0.25, 0.0], [0.25, 0.066300775], [0.22365842289706042, 0.12989496769621336], [0.1767766952966369, 0.1767766952966369], [0.12989496769621336, 0.22365842289706042], [0.066300775, 0.25], [0.0, 0.25], [-0.066300775, 0.25], [-0.12989496769621336, 0.22365842289706042], [-0.1767766952966369, 0.1767766952966369], [-0.22365842289706042, 0.12989496769621336], [-0.25, 0.066300775], [-0.25, 0.0], [-0.25, -0.066300775], [-0.22365842289706042, -0.12989496769621336], [-0.1767766952966369, -0.1767766952966369], [-0.12989496769621336, -0.22365842289706042], [-0.066300775, -0.25], [0.0, -0.25]], \"data01\": [[0.0, 0.0, 1.0, 0.5, 1.0], [1.0, 1.0, 0.0, 0.5, 1.0]]}, \"id\": \"el23452140486418046736\"});\n",
       "            })\n",
       "         });\n",
       "}\n",
       "</script>"
      ],
      "text/plain": [
       "<IPython.core.display.HTML object>"
      ]
     },
     "execution_count": 491,
     "metadata": {},
     "output_type": "execute_result"
    }
   ],
   "source": [
    "x_item, y_item, labels = (\"agr\", \"ext\", ['Agreeableness', 'Warm', 'Extraversion', 'Dominance', 'Disagreeableness', 'Cold-hearted', 'Introversion', 'Submissiveness'])\n",
    "#x_item, y_item, labels = (\"con\", \"neu\", ['Conscientiousness', '', 'Neuroticism', '', '', '', '', ''])\n",
    "#x_item, y_item, labels = (\"ope\", \"agr\", ['Openness', '', 'Agreeableness', '', '', '', '', ''])\n",
    "#x_item, y_item, labels = (\"ope\", \"ext\", ['Openness', '', 'Extraversion', '', '', '', '', ''])\n",
    "#x_item, y_item, labels = (\"ope\", \"neu\", ['Openness', '', 'Neuroticism', '', '', '', '', ''])\n",
    "pers_plot = pers_corr[[x_item, y_item]]\n",
    "plot_labeled_personality(x_item, y_item, pers_plot, labels, topics=topic_dict)\n",
    "mpld3.display()"
   ]
  },
  {
   "cell_type": "code",
   "execution_count": null,
   "metadata": {
    "collapsed": true
   },
   "outputs": [],
   "source": []
  },
  {
   "cell_type": "code",
   "execution_count": null,
   "metadata": {
    "collapsed": true
   },
   "outputs": [],
   "source": []
  },
  {
   "cell_type": "code",
   "execution_count": 71,
   "metadata": {
    "collapsed": false
   },
   "outputs": [],
   "source": [
    "def my_func():\n",
    "    fig, ax = plt.subplots(subplot_kw=dict(axisbg='#EEEEEE'))\n",
    "    N = 100\n",
    "\n",
    "    scatter = ax.scatter(np.random.normal(size=N),\n",
    "                         np.random.normal(size=N),\n",
    "                         c=np.random.random(size=N),\n",
    "                         s=1000 * np.random.random(size=N),\n",
    "                         alpha=0.3,\n",
    "                         cmap=plt.cm.jet)\n",
    "    ax.grid(color='white', linestyle='solid')\n",
    "\n",
    "    ax.set_title(\"Scatter Plot (with tooltips!)\", size=20)\n",
    "\n",
    "    labels = ['point {0}'.format(i + 1) for i in range(N)]\n",
    "    tooltip = mpld3.plugins.PointLabelTooltip(scatter, labels=labels)\n",
    "    mpld3.plugins.connect(fig, tooltip)\n",
    "\n",
    "    #mpld3.display()"
   ]
  },
  {
   "cell_type": "code",
   "execution_count": 72,
   "metadata": {
    "collapsed": false
   },
   "outputs": [
    {
     "data": {
      "text/html": [
       "\n",
       "\n",
       "<style>\n",
       "\n",
       "</style>\n",
       "\n",
       "<div id=\"fig_el234521404859090380325415850648\"></div>\n",
       "<script>\n",
       "function mpld3_load_lib(url, callback){\n",
       "  var s = document.createElement('script');\n",
       "  s.src = url;\n",
       "  s.async = true;\n",
       "  s.onreadystatechange = s.onload = callback;\n",
       "  s.onerror = function(){console.warn(\"failed to load library \" + url);};\n",
       "  document.getElementsByTagName(\"head\")[0].appendChild(s);\n",
       "}\n",
       "\n",
       "if(typeof(mpld3) !== \"undefined\" && mpld3._mpld3IsLoaded){\n",
       "   // already loaded: just create the figure\n",
       "   !function(mpld3){\n",
       "       \n",
       "       mpld3.draw_figure(\"fig_el234521404859090380325415850648\", {\"axes\": [{\"xlim\": [-4.0, 4.0], \"yscale\": \"linear\", \"axesbg\": \"#EEEEEE\", \"texts\": [{\"v_baseline\": \"auto\", \"h_anchor\": \"middle\", \"color\": \"#000000\", \"text\": \"Scatter Plot (with tooltips!)\", \"coordinates\": \"axes\", \"zorder\": 3, \"alpha\": 1, \"fontsize\": 20.0, \"position\": [0.5, 1.0224014336917562], \"rotation\": -0.0, \"id\": \"el23452140485877768400\"}], \"zoomable\": true, \"images\": [], \"xdomain\": [-4.0, 4.0], \"ylim\": [-3.0, 3.0], \"paths\": [], \"sharey\": [], \"sharex\": [], \"axesbgalpha\": null, \"axes\": [{\"scale\": \"linear\", \"tickformat\": null, \"grid\": {\"color\": \"#FFFFFF\", \"alpha\": 1.0, \"dasharray\": \"10,0\", \"gridOn\": true}, \"fontsize\": 10.0, \"position\": \"bottom\", \"nticks\": 9, \"tickvalues\": null}, {\"scale\": \"linear\", \"tickformat\": null, \"grid\": {\"color\": \"#FFFFFF\", \"alpha\": 1.0, \"dasharray\": \"10,0\", \"gridOn\": true}, \"fontsize\": 10.0, \"position\": \"left\", \"nticks\": 7, \"tickvalues\": null}], \"lines\": [], \"markers\": [], \"id\": \"el23452140485876824720\", \"ydomain\": [-3.0, 3.0], \"collections\": [{\"paths\": [[[[0.0, -0.5], [0.13260155, -0.5], [0.25978993539242673, -0.44731684579412084], [0.3535533905932738, -0.3535533905932738], [0.44731684579412084, -0.25978993539242673], [0.5, -0.13260155], [0.5, 0.0], [0.5, 0.13260155], [0.44731684579412084, 0.25978993539242673], [0.3535533905932738, 0.3535533905932738], [0.25978993539242673, 0.44731684579412084], [0.13260155, 0.5], [0.0, 0.5], [-0.13260155, 0.5], [-0.25978993539242673, 0.44731684579412084], [-0.3535533905932738, 0.3535533905932738], [-0.44731684579412084, 0.25978993539242673], [-0.5, 0.13260155], [-0.5, 0.0], [-0.5, -0.13260155], [-0.44731684579412084, -0.25978993539242673], [-0.3535533905932738, -0.3535533905932738], [-0.25978993539242673, -0.44731684579412084], [-0.13260155, -0.5], [0.0, -0.5]], [\"M\", \"C\", \"C\", \"C\", \"C\", \"C\", \"C\", \"C\", \"C\", \"Z\"]]], \"edgecolors\": [\"#000000\"], \"edgewidths\": [1.0], \"offsets\": \"data01\", \"yindex\": 1, \"id\": \"el23452140485877701200\", \"pathtransforms\": [[29.42325284772278, 0.0, 0.0, 29.42325284772278, 0.0, 0.0], [21.167157156847605, 0.0, 0.0, 21.167157156847605, 0.0, 0.0], [22.90310800472908, 0.0, 0.0, 22.90310800472908, 0.0, 0.0], [13.686819890665895, 0.0, 0.0, 13.686819890665895, 0.0, 0.0], [34.51125848220158, 0.0, 0.0, 34.51125848220158, 0.0, 0.0], [27.980147015388493, 0.0, 0.0, 27.980147015388493, 0.0, 0.0], [20.501784238523225, 0.0, 0.0, 20.501784238523225, 0.0, 0.0], [7.7024242785119235, 0.0, 0.0, 7.7024242785119235, 0.0, 0.0], [5.050584396952309, 0.0, 0.0, 5.050584396952309, 0.0, 0.0], [15.911514458541198, 0.0, 0.0, 15.911514458541198, 0.0, 0.0], [30.62848185666889, 0.0, 0.0, 30.62848185666889, 0.0, 0.0], [28.216044796629088, 0.0, 0.0, 28.216044796629088, 0.0, 0.0], [33.88215634820503, 0.0, 0.0, 33.88215634820503, 0.0, 0.0], [30.6758918770128, 0.0, 0.0, 30.6758918770128, 0.0, 0.0], [35.136016417839784, 0.0, 0.0, 35.136016417839784, 0.0, 0.0], [13.909682792123643, 0.0, 0.0, 13.909682792123643, 0.0, 0.0], [5.183765896531124, 0.0, 0.0, 5.183765896531124, 0.0, 0.0], [3.6547536533446, 0.0, 0.0, 3.6547536533446, 0.0, 0.0], [12.332219745626649, 0.0, 0.0, 12.332219745626649, 0.0, 0.0], [19.213599193175007, 0.0, 0.0, 19.213599193175007, 0.0, 0.0], [19.658536930725152, 0.0, 0.0, 19.658536930725152, 0.0, 0.0], [10.378949448926925, 0.0, 0.0, 10.378949448926925, 0.0, 0.0], [32.722906172857364, 0.0, 0.0, 32.722906172857364, 0.0, 0.0], [6.369203503883672, 0.0, 0.0, 6.369203503883672, 0.0, 0.0], [27.773761547656516, 0.0, 0.0, 27.773761547656516, 0.0, 0.0], [32.058556518464606, 0.0, 0.0, 32.058556518464606, 0.0, 0.0], [27.478474085700277, 0.0, 0.0, 27.478474085700277, 0.0, 0.0], [23.009075139114707, 0.0, 0.0, 23.009075139114707, 0.0, 0.0], [30.650710512187427, 0.0, 0.0, 30.650710512187427, 0.0, 0.0], [27.41356095947826, 0.0, 0.0, 27.41356095947826, 0.0, 0.0], [22.002574048856566, 0.0, 0.0, 22.002574048856566, 0.0, 0.0], [28.007698947924762, 0.0, 0.0, 28.007698947924762, 0.0, 0.0], [33.27689869852583, 0.0, 0.0, 33.27689869852583, 0.0, 0.0], [34.51485998739888, 0.0, 0.0, 34.51485998739888, 0.0, 0.0], [33.42919705426178, 0.0, 0.0, 33.42919705426178, 0.0, 0.0], [26.58457309009377, 0.0, 0.0, 26.58457309009377, 0.0, 0.0], [26.385549768646225, 0.0, 0.0, 26.385549768646225, 0.0, 0.0], [33.19903060385695, 0.0, 0.0, 33.19903060385695, 0.0, 0.0], [11.13009496808494, 0.0, 0.0, 11.13009496808494, 0.0, 0.0], [13.825804836571631, 0.0, 0.0, 13.825804836571631, 0.0, 0.0], [19.069753096780783, 0.0, 0.0, 19.069753096780783, 0.0, 0.0], [30.545570193513306, 0.0, 0.0, 30.545570193513306, 0.0, 0.0], [35.06849086748346, 0.0, 0.0, 35.06849086748346, 0.0, 0.0], [13.521668595887165, 0.0, 0.0, 13.521668595887165, 0.0, 0.0], [14.702528350635086, 0.0, 0.0, 14.702528350635086, 0.0, 0.0], [34.236862740908336, 0.0, 0.0, 34.236862740908336, 0.0, 0.0], [17.968245505713107, 0.0, 0.0, 17.968245505713107, 0.0, 0.0], [9.47387444581872, 0.0, 0.0, 9.47387444581872, 0.0, 0.0], [15.168247551788491, 0.0, 0.0, 15.168247551788491, 0.0, 0.0], [27.08648015434157, 0.0, 0.0, 27.08648015434157, 0.0, 0.0], [24.216944373330453, 0.0, 0.0, 24.216944373330453, 0.0, 0.0], [25.878870856524546, 0.0, 0.0, 25.878870856524546, 0.0, 0.0], [2.8832278315344664, 0.0, 0.0, 2.8832278315344664, 0.0, 0.0], [26.712122677573273, 0.0, 0.0, 26.712122677573273, 0.0, 0.0], [16.546144277428187, 0.0, 0.0, 16.546144277428187, 0.0, 0.0], [34.883830769357594, 0.0, 0.0, 34.883830769357594, 0.0, 0.0], [26.256158036867475, 0.0, 0.0, 26.256158036867475, 0.0, 0.0], [20.65740063099371, 0.0, 0.0, 20.65740063099371, 0.0, 0.0], [24.176932667305874, 0.0, 0.0, 24.176932667305874, 0.0, 0.0], [27.942258509741823, 0.0, 0.0, 27.942258509741823, 0.0, 0.0], [12.526394496789278, 0.0, 0.0, 12.526394496789278, 0.0, 0.0], [34.70067034068093, 0.0, 0.0, 34.70067034068093, 0.0, 0.0], [34.11178807918205, 0.0, 0.0, 34.11178807918205, 0.0, 0.0], [26.358142137384274, 0.0, 0.0, 26.358142137384274, 0.0, 0.0], [25.36377153264171, 0.0, 0.0, 25.36377153264171, 0.0, 0.0], [32.583056277730186, 0.0, 0.0, 32.583056277730186, 0.0, 0.0], [1.752009359312862, 0.0, 0.0, 1.752009359312862, 0.0, 0.0], [19.04345618976695, 0.0, 0.0, 19.04345618976695, 0.0, 0.0], [23.187865925924005, 0.0, 0.0, 23.187865925924005, 0.0, 0.0], [34.64320670347668, 0.0, 0.0, 34.64320670347668, 0.0, 0.0], [20.069434408120443, 0.0, 0.0, 20.069434408120443, 0.0, 0.0], [26.966221612205615, 0.0, 0.0, 26.966221612205615, 0.0, 0.0], [11.490410372292981, 0.0, 0.0, 11.490410372292981, 0.0, 0.0], [16.920312597161704, 0.0, 0.0, 16.920312597161704, 0.0, 0.0], [17.41427056000719, 0.0, 0.0, 17.41427056000719, 0.0, 0.0], [4.668403497496502, 0.0, 0.0, 4.668403497496502, 0.0, 0.0], [23.82774775902975, 0.0, 0.0, 23.82774775902975, 0.0, 0.0], [19.95756027268656, 0.0, 0.0, 19.95756027268656, 0.0, 0.0], [22.251033299613354, 0.0, 0.0, 22.251033299613354, 0.0, 0.0], [26.211670595890347, 0.0, 0.0, 26.211670595890347, 0.0, 0.0], [12.919695372970219, 0.0, 0.0, 12.919695372970219, 0.0, 0.0], [14.171265519404018, 0.0, 0.0, 14.171265519404018, 0.0, 0.0], [28.527153258439473, 0.0, 0.0, 28.527153258439473, 0.0, 0.0], [17.76485941032987, 0.0, 0.0, 17.76485941032987, 0.0, 0.0], [30.303790822842945, 0.0, 0.0, 30.303790822842945, 0.0, 0.0], [16.852211902845777, 0.0, 0.0, 16.852211902845777, 0.0, 0.0], [13.914335711308524, 0.0, 0.0, 13.914335711308524, 0.0, 0.0], [14.47299887593139, 0.0, 0.0, 14.47299887593139, 0.0, 0.0], [30.077177538442363, 0.0, 0.0, 30.077177538442363, 0.0, 0.0], [26.245443949192158, 0.0, 0.0, 26.245443949192158, 0.0, 0.0], [25.818201063705402, 0.0, 0.0, 25.818201063705402, 0.0, 0.0], [25.399704182992956, 0.0, 0.0, 25.399704182992956, 0.0, 0.0], [17.28422718402915, 0.0, 0.0, 17.28422718402915, 0.0, 0.0], [34.538318195839565, 0.0, 0.0, 34.538318195839565, 0.0, 0.0], [7.053120587653315, 0.0, 0.0, 7.053120587653315, 0.0, 0.0], [8.558020580211288, 0.0, 0.0, 8.558020580211288, 0.0, 0.0], [26.714033560059235, 0.0, 0.0, 26.714033560059235, 0.0, 0.0], [9.34343754620693, 0.0, 0.0, 9.34343754620693, 0.0, 0.0], [11.974532864099169, 0.0, 0.0, 11.974532864099169, 0.0, 0.0], [18.074638619327747, 0.0, 0.0, 18.074638619327747, 0.0, 0.0]], \"pathcoordinates\": \"display\", \"offsetcoordinates\": \"data\", \"zorder\": 1, \"xindex\": 0, \"alphas\": [0.3], \"facecolors\": [\"#DA0000\", \"#006CFF\", \"#0000FF\", \"#80FF76\", \"#FFC800\", \"#FFBD00\", \"#0028FF\", \"#00007F\", \"#FFE500\", \"#53FFA3\", \"#FFD300\", \"#0000F1\", \"#0000F5\", \"#0000F5\", \"#7F0000\", \"#FF6B00\", \"#FF4200\", \"#49FFAD\", \"#29FFCD\", \"#DAFF1C\", \"#0000E3\", \"#D7FF1F\", \"#0030FF\", \"#000CFF\", \"#00007F\", \"#25FFD0\", \"#FFDE00\", \"#D10000\", \"#3FFFB7\", \"#00B4FF\", \"#000088\", \"#0088FF\", \"#FFB500\", \"#FF9800\", \"#0000F1\", \"#C0FF36\", \"#0018FF\", \"#0000FA\", \"#00009F\", \"#00C0FF\", \"#2CFFCA\", \"#FFB900\", \"#0074FF\", \"#FF6700\", \"#FF4600\", \"#05ECF1\", \"#FFCB00\", \"#00007F\", \"#007CFF\", \"#000084\", \"#FF6F00\", \"#FFA300\", \"#D4FF22\", \"#0070FF\", \"#002CFF\", \"#CC0000\", \"#A30000\", \"#4CFFAA\", \"#910000\", \"#0088FF\", \"#FF7E00\", \"#00008D\", \"#CC0000\", \"#0000FF\", \"#F50B00\", \"#0010FF\", \"#FF3700\", \"#C7FF2F\", \"#FF4200\", \"#4FFFA6\", \"#FF1A00\", \"#D4FF22\", \"#00E4F7\", \"#32FFC3\", \"#FFB900\", \"#00008D\", \"#FFAE00\", \"#FFAA00\", \"#00B4FF\", \"#00E0FA\", \"#76FF80\", \"#FEED00\", \"#18FFDD\", \"#FFE200\", \"#2CFFCA\", \"#FF7600\", \"#0000FF\", \"#22FFD4\", \"#0000FF\", \"#BDFF39\", \"#2CFFCA\", \"#FF5100\", \"#005CFF\", \"#F10700\", \"#D4FF22\", \"#FF8900\", \"#EDFF08\", \"#FF5C00\", \"#B0FF46\", \"#0038FF\"]}], \"xscale\": \"linear\", \"bbox\": [0.125, 0.125, 0.77500000000000002, 0.77500000000000002]}], \"height\": 320.0, \"width\": 480.0, \"plugins\": [{\"type\": \"reset\"}, {\"enabled\": false, \"button\": true, \"type\": \"zoom\"}, {\"enabled\": false, \"button\": true, \"type\": \"boxzoom\"}, {\"voffset\": 10, \"labels\": [\"point 1\", \"point 2\", \"point 3\", \"point 4\", \"point 5\", \"point 6\", \"point 7\", \"point 8\", \"point 9\", \"point 10\", \"point 11\", \"point 12\", \"point 13\", \"point 14\", \"point 15\", \"point 16\", \"point 17\", \"point 18\", \"point 19\", \"point 20\", \"point 21\", \"point 22\", \"point 23\", \"point 24\", \"point 25\", \"point 26\", \"point 27\", \"point 28\", \"point 29\", \"point 30\", \"point 31\", \"point 32\", \"point 33\", \"point 34\", \"point 35\", \"point 36\", \"point 37\", \"point 38\", \"point 39\", \"point 40\", \"point 41\", \"point 42\", \"point 43\", \"point 44\", \"point 45\", \"point 46\", \"point 47\", \"point 48\", \"point 49\", \"point 50\", \"point 51\", \"point 52\", \"point 53\", \"point 54\", \"point 55\", \"point 56\", \"point 57\", \"point 58\", \"point 59\", \"point 60\", \"point 61\", \"point 62\", \"point 63\", \"point 64\", \"point 65\", \"point 66\", \"point 67\", \"point 68\", \"point 69\", \"point 70\", \"point 71\", \"point 72\", \"point 73\", \"point 74\", \"point 75\", \"point 76\", \"point 77\", \"point 78\", \"point 79\", \"point 80\", \"point 81\", \"point 82\", \"point 83\", \"point 84\", \"point 85\", \"point 86\", \"point 87\", \"point 88\", \"point 89\", \"point 90\", \"point 91\", \"point 92\", \"point 93\", \"point 94\", \"point 95\", \"point 96\", \"point 97\", \"point 98\", \"point 99\", \"point 100\"], \"hoffset\": 0, \"location\": \"mouse\", \"type\": \"tooltip\", \"id\": \"el23452140485877701200\"}], \"data\": {\"data01\": [[-0.8303677615661511, -0.30668750786588217], [-0.128590181397488, 1.428820245465774], [-0.5630416790262519, -0.44561432322078626], [1.5612490890953068, -0.8099772422811828], [1.6087918500884097, 2.193024216190681], [0.33441168980490843, -2.089498711973843], [-0.4780623734459263, 0.3328148494455277], [-0.8928336314653593, -0.24606798021797205], [0.7800302470091642, 2.1358575494261247], [-3.1460591981861366, 2.018735535382533], [0.2521541349171582, -0.5700982414353755], [-0.927957233014482, -0.9976997026796138], [-0.05015480285732531, -0.5058050553047361], [2.034581512053741, -0.10882982271926808], [-0.20553734764596432, -0.9933743128966771], [1.3458526852475932, -0.7445395276565013], [0.937161924685586, -0.21094274109873518], [-0.7945578539265604, -0.3748535347896779], [0.14101977487146572, -2.077246107222358], [-0.8968493929713598, 1.2608594158219895], [0.019154848646156675, -0.5807832371510168], [0.797907635605409, 2.3193067921156385], [0.7062459922645931, 0.5475492146053208], [1.4490864413077809, -1.6828266139180925], [0.042454864972169645, 0.3423118663006945], [-1.4863690460292933, 1.2694853149485923], [0.9017849665904868, -0.04768546646734371], [-0.501243626436444, 1.4159275014189368], [1.1137256436885155, -0.8637394152393784], [-0.3104301396257342, -0.4554267270441956], [-0.8415921215982313, 0.6605036272188788], [0.6774665591224982, 0.12210415405779101], [1.430158511059004, -0.5956063128613992], [1.4280498771375072, -1.3036464838827606], [2.9568166589737634, -0.3629488032793455], [0.5040137932036927, -1.202855718943358], [-1.471924291897975, 0.3287495242118639], [1.8633623604907654, 0.5879985050223187], [-1.4864159681737905, 0.22213986766632163], [0.8108569964273751, 0.28805072641634627], [-1.1406252849957588, -1.0611420618462735], [1.5620145917931856, -1.0571259971495188], [0.3998322388553784, 0.4926692560738369], [-0.04530133692371477, -0.17715954774333267], [-0.7152390533456251, 0.4469050295570005], [-1.0398849316775571, 0.23820311109097903], [-1.9629188516167546, 1.2699436143124034], [-0.6778822430735045, -0.7408350831218642], [0.35379236151480437, -1.4304332305022078], [-0.24711744898332944, -0.24499698195301042], [-1.1005843479201576, -0.37381405485327174], [-0.9580995097897939, -1.1799473681558856], [-0.6256959984537234, -0.6610330287579758], [0.7565286008349001, -0.4691085800783213], [-0.08868117055834354, 0.9752403669238922], [2.5373985162718773, 1.7084470867360233], [1.8394643768893506, 0.6344417449841684], [2.1794442723860024, -0.06862043635472073], [-0.9204014946372112, 1.3574307925777145], [-0.9254515842183065, -0.5482387347346659], [0.390065590493575, -0.7214230590594422], [-0.4065696334114215, 0.5593892261740825], [0.6498862986319046, 0.7555818033479436], [-0.407315189914376, -0.5442619253906297], [0.17832512066114417, -0.7080754118783908], [0.0658623416477053, -0.08924422830542657], [2.930425029936128, 0.981028803076604], [-0.7137654001889079, -0.1762443224586968], [-0.32740678671263074, 0.011794314730199552], [0.5120071190219632, -1.2577692624282442], [-0.22435564640908337, -0.7286587374963762], [0.08211350933777146, -1.2366782430777385], [-2.5619572058275573, 1.7265655334398071], [1.0069725745946283, -0.9651391132689608], [-0.9646444404500792, 0.5141691385480605], [-1.053938616965041, 0.37847373730032924], [-2.823971792306703, 1.7765306950303017], [0.8518359976817519, -0.5364696660737995], [-1.258225584408128, 1.6034329018682174], [-1.0112557622557372, -1.633861530346901], [-0.33537507803518557, -0.08034924455747094], [1.0446083131697643, 2.0190657619383434], [0.12794160285586773, 0.7547604005250832], [1.0467574069093155, -1.1939302499800561], [0.8416418314480452, -1.6590575548396476], [0.30069952471871103, -1.7832395992453152], [-0.12428933104006344, 0.5956611712161979], [-1.0738053454155225, -1.032273032535241], [-0.8315084747196143, -1.42641440833751], [-1.5559987034514655, -0.8888432931568369], [0.46225032077024636, 0.4236554645074446], [-0.17507585096335626, 1.2056960215690815], [-2.0208408651129632, 0.7149168964966368], [0.7764397168715967, 1.5487172533018438], [-0.8327883763225821, -0.5841194869674967], [-0.30349657867560104, 0.9696576720265612], [1.1301560238564694, 0.31704307712367735], [-0.49468596551707694, 0.01764683321707205], [2.79251164668465, 0.9070550188323548], [-1.3080075023554771, -0.07945618973833782]]}, \"id\": \"el23452140485909038032\"});\n",
       "   }(mpld3);\n",
       "}else if(typeof define === \"function\" && define.amd){\n",
       "   // require.js is available: use it to load d3/mpld3\n",
       "   require.config({paths: {d3: \"https://mpld3.github.io/js/d3.v3.min\"}});\n",
       "   require([\"d3\"], function(d3){\n",
       "      window.d3 = d3;\n",
       "      mpld3_load_lib(\"https://mpld3.github.io/js/mpld3.v0.2.js\", function(){\n",
       "         \n",
       "         mpld3.draw_figure(\"fig_el234521404859090380325415850648\", {\"axes\": [{\"xlim\": [-4.0, 4.0], \"yscale\": \"linear\", \"axesbg\": \"#EEEEEE\", \"texts\": [{\"v_baseline\": \"auto\", \"h_anchor\": \"middle\", \"color\": \"#000000\", \"text\": \"Scatter Plot (with tooltips!)\", \"coordinates\": \"axes\", \"zorder\": 3, \"alpha\": 1, \"fontsize\": 20.0, \"position\": [0.5, 1.0224014336917562], \"rotation\": -0.0, \"id\": \"el23452140485877768400\"}], \"zoomable\": true, \"images\": [], \"xdomain\": [-4.0, 4.0], \"ylim\": [-3.0, 3.0], \"paths\": [], \"sharey\": [], \"sharex\": [], \"axesbgalpha\": null, \"axes\": [{\"scale\": \"linear\", \"tickformat\": null, \"grid\": {\"color\": \"#FFFFFF\", \"alpha\": 1.0, \"dasharray\": \"10,0\", \"gridOn\": true}, \"fontsize\": 10.0, \"position\": \"bottom\", \"nticks\": 9, \"tickvalues\": null}, {\"scale\": \"linear\", \"tickformat\": null, \"grid\": {\"color\": \"#FFFFFF\", \"alpha\": 1.0, \"dasharray\": \"10,0\", \"gridOn\": true}, \"fontsize\": 10.0, \"position\": \"left\", \"nticks\": 7, \"tickvalues\": null}], \"lines\": [], \"markers\": [], \"id\": \"el23452140485876824720\", \"ydomain\": [-3.0, 3.0], \"collections\": [{\"paths\": [[[[0.0, -0.5], [0.13260155, -0.5], [0.25978993539242673, -0.44731684579412084], [0.3535533905932738, -0.3535533905932738], [0.44731684579412084, -0.25978993539242673], [0.5, -0.13260155], [0.5, 0.0], [0.5, 0.13260155], [0.44731684579412084, 0.25978993539242673], [0.3535533905932738, 0.3535533905932738], [0.25978993539242673, 0.44731684579412084], [0.13260155, 0.5], [0.0, 0.5], [-0.13260155, 0.5], [-0.25978993539242673, 0.44731684579412084], [-0.3535533905932738, 0.3535533905932738], [-0.44731684579412084, 0.25978993539242673], [-0.5, 0.13260155], [-0.5, 0.0], [-0.5, -0.13260155], [-0.44731684579412084, -0.25978993539242673], [-0.3535533905932738, -0.3535533905932738], [-0.25978993539242673, -0.44731684579412084], [-0.13260155, -0.5], [0.0, -0.5]], [\"M\", \"C\", \"C\", \"C\", \"C\", \"C\", \"C\", \"C\", \"C\", \"Z\"]]], \"edgecolors\": [\"#000000\"], \"edgewidths\": [1.0], \"offsets\": \"data01\", \"yindex\": 1, \"id\": \"el23452140485877701200\", \"pathtransforms\": [[29.42325284772278, 0.0, 0.0, 29.42325284772278, 0.0, 0.0], [21.167157156847605, 0.0, 0.0, 21.167157156847605, 0.0, 0.0], [22.90310800472908, 0.0, 0.0, 22.90310800472908, 0.0, 0.0], [13.686819890665895, 0.0, 0.0, 13.686819890665895, 0.0, 0.0], [34.51125848220158, 0.0, 0.0, 34.51125848220158, 0.0, 0.0], [27.980147015388493, 0.0, 0.0, 27.980147015388493, 0.0, 0.0], [20.501784238523225, 0.0, 0.0, 20.501784238523225, 0.0, 0.0], [7.7024242785119235, 0.0, 0.0, 7.7024242785119235, 0.0, 0.0], [5.050584396952309, 0.0, 0.0, 5.050584396952309, 0.0, 0.0], [15.911514458541198, 0.0, 0.0, 15.911514458541198, 0.0, 0.0], [30.62848185666889, 0.0, 0.0, 30.62848185666889, 0.0, 0.0], [28.216044796629088, 0.0, 0.0, 28.216044796629088, 0.0, 0.0], [33.88215634820503, 0.0, 0.0, 33.88215634820503, 0.0, 0.0], [30.6758918770128, 0.0, 0.0, 30.6758918770128, 0.0, 0.0], [35.136016417839784, 0.0, 0.0, 35.136016417839784, 0.0, 0.0], [13.909682792123643, 0.0, 0.0, 13.909682792123643, 0.0, 0.0], [5.183765896531124, 0.0, 0.0, 5.183765896531124, 0.0, 0.0], [3.6547536533446, 0.0, 0.0, 3.6547536533446, 0.0, 0.0], [12.332219745626649, 0.0, 0.0, 12.332219745626649, 0.0, 0.0], [19.213599193175007, 0.0, 0.0, 19.213599193175007, 0.0, 0.0], [19.658536930725152, 0.0, 0.0, 19.658536930725152, 0.0, 0.0], [10.378949448926925, 0.0, 0.0, 10.378949448926925, 0.0, 0.0], [32.722906172857364, 0.0, 0.0, 32.722906172857364, 0.0, 0.0], [6.369203503883672, 0.0, 0.0, 6.369203503883672, 0.0, 0.0], [27.773761547656516, 0.0, 0.0, 27.773761547656516, 0.0, 0.0], [32.058556518464606, 0.0, 0.0, 32.058556518464606, 0.0, 0.0], [27.478474085700277, 0.0, 0.0, 27.478474085700277, 0.0, 0.0], [23.009075139114707, 0.0, 0.0, 23.009075139114707, 0.0, 0.0], [30.650710512187427, 0.0, 0.0, 30.650710512187427, 0.0, 0.0], [27.41356095947826, 0.0, 0.0, 27.41356095947826, 0.0, 0.0], [22.002574048856566, 0.0, 0.0, 22.002574048856566, 0.0, 0.0], [28.007698947924762, 0.0, 0.0, 28.007698947924762, 0.0, 0.0], [33.27689869852583, 0.0, 0.0, 33.27689869852583, 0.0, 0.0], [34.51485998739888, 0.0, 0.0, 34.51485998739888, 0.0, 0.0], [33.42919705426178, 0.0, 0.0, 33.42919705426178, 0.0, 0.0], [26.58457309009377, 0.0, 0.0, 26.58457309009377, 0.0, 0.0], [26.385549768646225, 0.0, 0.0, 26.385549768646225, 0.0, 0.0], [33.19903060385695, 0.0, 0.0, 33.19903060385695, 0.0, 0.0], [11.13009496808494, 0.0, 0.0, 11.13009496808494, 0.0, 0.0], [13.825804836571631, 0.0, 0.0, 13.825804836571631, 0.0, 0.0], [19.069753096780783, 0.0, 0.0, 19.069753096780783, 0.0, 0.0], [30.545570193513306, 0.0, 0.0, 30.545570193513306, 0.0, 0.0], [35.06849086748346, 0.0, 0.0, 35.06849086748346, 0.0, 0.0], [13.521668595887165, 0.0, 0.0, 13.521668595887165, 0.0, 0.0], [14.702528350635086, 0.0, 0.0, 14.702528350635086, 0.0, 0.0], [34.236862740908336, 0.0, 0.0, 34.236862740908336, 0.0, 0.0], [17.968245505713107, 0.0, 0.0, 17.968245505713107, 0.0, 0.0], [9.47387444581872, 0.0, 0.0, 9.47387444581872, 0.0, 0.0], [15.168247551788491, 0.0, 0.0, 15.168247551788491, 0.0, 0.0], [27.08648015434157, 0.0, 0.0, 27.08648015434157, 0.0, 0.0], [24.216944373330453, 0.0, 0.0, 24.216944373330453, 0.0, 0.0], [25.878870856524546, 0.0, 0.0, 25.878870856524546, 0.0, 0.0], [2.8832278315344664, 0.0, 0.0, 2.8832278315344664, 0.0, 0.0], [26.712122677573273, 0.0, 0.0, 26.712122677573273, 0.0, 0.0], [16.546144277428187, 0.0, 0.0, 16.546144277428187, 0.0, 0.0], [34.883830769357594, 0.0, 0.0, 34.883830769357594, 0.0, 0.0], [26.256158036867475, 0.0, 0.0, 26.256158036867475, 0.0, 0.0], [20.65740063099371, 0.0, 0.0, 20.65740063099371, 0.0, 0.0], [24.176932667305874, 0.0, 0.0, 24.176932667305874, 0.0, 0.0], [27.942258509741823, 0.0, 0.0, 27.942258509741823, 0.0, 0.0], [12.526394496789278, 0.0, 0.0, 12.526394496789278, 0.0, 0.0], [34.70067034068093, 0.0, 0.0, 34.70067034068093, 0.0, 0.0], [34.11178807918205, 0.0, 0.0, 34.11178807918205, 0.0, 0.0], [26.358142137384274, 0.0, 0.0, 26.358142137384274, 0.0, 0.0], [25.36377153264171, 0.0, 0.0, 25.36377153264171, 0.0, 0.0], [32.583056277730186, 0.0, 0.0, 32.583056277730186, 0.0, 0.0], [1.752009359312862, 0.0, 0.0, 1.752009359312862, 0.0, 0.0], [19.04345618976695, 0.0, 0.0, 19.04345618976695, 0.0, 0.0], [23.187865925924005, 0.0, 0.0, 23.187865925924005, 0.0, 0.0], [34.64320670347668, 0.0, 0.0, 34.64320670347668, 0.0, 0.0], [20.069434408120443, 0.0, 0.0, 20.069434408120443, 0.0, 0.0], [26.966221612205615, 0.0, 0.0, 26.966221612205615, 0.0, 0.0], [11.490410372292981, 0.0, 0.0, 11.490410372292981, 0.0, 0.0], [16.920312597161704, 0.0, 0.0, 16.920312597161704, 0.0, 0.0], [17.41427056000719, 0.0, 0.0, 17.41427056000719, 0.0, 0.0], [4.668403497496502, 0.0, 0.0, 4.668403497496502, 0.0, 0.0], [23.82774775902975, 0.0, 0.0, 23.82774775902975, 0.0, 0.0], [19.95756027268656, 0.0, 0.0, 19.95756027268656, 0.0, 0.0], [22.251033299613354, 0.0, 0.0, 22.251033299613354, 0.0, 0.0], [26.211670595890347, 0.0, 0.0, 26.211670595890347, 0.0, 0.0], [12.919695372970219, 0.0, 0.0, 12.919695372970219, 0.0, 0.0], [14.171265519404018, 0.0, 0.0, 14.171265519404018, 0.0, 0.0], [28.527153258439473, 0.0, 0.0, 28.527153258439473, 0.0, 0.0], [17.76485941032987, 0.0, 0.0, 17.76485941032987, 0.0, 0.0], [30.303790822842945, 0.0, 0.0, 30.303790822842945, 0.0, 0.0], [16.852211902845777, 0.0, 0.0, 16.852211902845777, 0.0, 0.0], [13.914335711308524, 0.0, 0.0, 13.914335711308524, 0.0, 0.0], [14.47299887593139, 0.0, 0.0, 14.47299887593139, 0.0, 0.0], [30.077177538442363, 0.0, 0.0, 30.077177538442363, 0.0, 0.0], [26.245443949192158, 0.0, 0.0, 26.245443949192158, 0.0, 0.0], [25.818201063705402, 0.0, 0.0, 25.818201063705402, 0.0, 0.0], [25.399704182992956, 0.0, 0.0, 25.399704182992956, 0.0, 0.0], [17.28422718402915, 0.0, 0.0, 17.28422718402915, 0.0, 0.0], [34.538318195839565, 0.0, 0.0, 34.538318195839565, 0.0, 0.0], [7.053120587653315, 0.0, 0.0, 7.053120587653315, 0.0, 0.0], [8.558020580211288, 0.0, 0.0, 8.558020580211288, 0.0, 0.0], [26.714033560059235, 0.0, 0.0, 26.714033560059235, 0.0, 0.0], [9.34343754620693, 0.0, 0.0, 9.34343754620693, 0.0, 0.0], [11.974532864099169, 0.0, 0.0, 11.974532864099169, 0.0, 0.0], [18.074638619327747, 0.0, 0.0, 18.074638619327747, 0.0, 0.0]], \"pathcoordinates\": \"display\", \"offsetcoordinates\": \"data\", \"zorder\": 1, \"xindex\": 0, \"alphas\": [0.3], \"facecolors\": [\"#DA0000\", \"#006CFF\", \"#0000FF\", \"#80FF76\", \"#FFC800\", \"#FFBD00\", \"#0028FF\", \"#00007F\", \"#FFE500\", \"#53FFA3\", \"#FFD300\", \"#0000F1\", \"#0000F5\", \"#0000F5\", \"#7F0000\", \"#FF6B00\", \"#FF4200\", \"#49FFAD\", \"#29FFCD\", \"#DAFF1C\", \"#0000E3\", \"#D7FF1F\", \"#0030FF\", \"#000CFF\", \"#00007F\", \"#25FFD0\", \"#FFDE00\", \"#D10000\", \"#3FFFB7\", \"#00B4FF\", \"#000088\", \"#0088FF\", \"#FFB500\", \"#FF9800\", \"#0000F1\", \"#C0FF36\", \"#0018FF\", \"#0000FA\", \"#00009F\", \"#00C0FF\", \"#2CFFCA\", \"#FFB900\", \"#0074FF\", \"#FF6700\", \"#FF4600\", \"#05ECF1\", \"#FFCB00\", \"#00007F\", \"#007CFF\", \"#000084\", \"#FF6F00\", \"#FFA300\", \"#D4FF22\", \"#0070FF\", \"#002CFF\", \"#CC0000\", \"#A30000\", \"#4CFFAA\", \"#910000\", \"#0088FF\", \"#FF7E00\", \"#00008D\", \"#CC0000\", \"#0000FF\", \"#F50B00\", \"#0010FF\", \"#FF3700\", \"#C7FF2F\", \"#FF4200\", \"#4FFFA6\", \"#FF1A00\", \"#D4FF22\", \"#00E4F7\", \"#32FFC3\", \"#FFB900\", \"#00008D\", \"#FFAE00\", \"#FFAA00\", \"#00B4FF\", \"#00E0FA\", \"#76FF80\", \"#FEED00\", \"#18FFDD\", \"#FFE200\", \"#2CFFCA\", \"#FF7600\", \"#0000FF\", \"#22FFD4\", \"#0000FF\", \"#BDFF39\", \"#2CFFCA\", \"#FF5100\", \"#005CFF\", \"#F10700\", \"#D4FF22\", \"#FF8900\", \"#EDFF08\", \"#FF5C00\", \"#B0FF46\", \"#0038FF\"]}], \"xscale\": \"linear\", \"bbox\": [0.125, 0.125, 0.77500000000000002, 0.77500000000000002]}], \"height\": 320.0, \"width\": 480.0, \"plugins\": [{\"type\": \"reset\"}, {\"enabled\": false, \"button\": true, \"type\": \"zoom\"}, {\"enabled\": false, \"button\": true, \"type\": \"boxzoom\"}, {\"voffset\": 10, \"labels\": [\"point 1\", \"point 2\", \"point 3\", \"point 4\", \"point 5\", \"point 6\", \"point 7\", \"point 8\", \"point 9\", \"point 10\", \"point 11\", \"point 12\", \"point 13\", \"point 14\", \"point 15\", \"point 16\", \"point 17\", \"point 18\", \"point 19\", \"point 20\", \"point 21\", \"point 22\", \"point 23\", \"point 24\", \"point 25\", \"point 26\", \"point 27\", \"point 28\", \"point 29\", \"point 30\", \"point 31\", \"point 32\", \"point 33\", \"point 34\", \"point 35\", \"point 36\", \"point 37\", \"point 38\", \"point 39\", \"point 40\", \"point 41\", \"point 42\", \"point 43\", \"point 44\", \"point 45\", \"point 46\", \"point 47\", \"point 48\", \"point 49\", \"point 50\", \"point 51\", \"point 52\", \"point 53\", \"point 54\", \"point 55\", \"point 56\", \"point 57\", \"point 58\", \"point 59\", \"point 60\", \"point 61\", \"point 62\", \"point 63\", \"point 64\", \"point 65\", \"point 66\", \"point 67\", \"point 68\", \"point 69\", \"point 70\", \"point 71\", \"point 72\", \"point 73\", \"point 74\", \"point 75\", \"point 76\", \"point 77\", \"point 78\", \"point 79\", \"point 80\", \"point 81\", \"point 82\", \"point 83\", \"point 84\", \"point 85\", \"point 86\", \"point 87\", \"point 88\", \"point 89\", \"point 90\", \"point 91\", \"point 92\", \"point 93\", \"point 94\", \"point 95\", \"point 96\", \"point 97\", \"point 98\", \"point 99\", \"point 100\"], \"hoffset\": 0, \"location\": \"mouse\", \"type\": \"tooltip\", \"id\": \"el23452140485877701200\"}], \"data\": {\"data01\": [[-0.8303677615661511, -0.30668750786588217], [-0.128590181397488, 1.428820245465774], [-0.5630416790262519, -0.44561432322078626], [1.5612490890953068, -0.8099772422811828], [1.6087918500884097, 2.193024216190681], [0.33441168980490843, -2.089498711973843], [-0.4780623734459263, 0.3328148494455277], [-0.8928336314653593, -0.24606798021797205], [0.7800302470091642, 2.1358575494261247], [-3.1460591981861366, 2.018735535382533], [0.2521541349171582, -0.5700982414353755], [-0.927957233014482, -0.9976997026796138], [-0.05015480285732531, -0.5058050553047361], [2.034581512053741, -0.10882982271926808], [-0.20553734764596432, -0.9933743128966771], [1.3458526852475932, -0.7445395276565013], [0.937161924685586, -0.21094274109873518], [-0.7945578539265604, -0.3748535347896779], [0.14101977487146572, -2.077246107222358], [-0.8968493929713598, 1.2608594158219895], [0.019154848646156675, -0.5807832371510168], [0.797907635605409, 2.3193067921156385], [0.7062459922645931, 0.5475492146053208], [1.4490864413077809, -1.6828266139180925], [0.042454864972169645, 0.3423118663006945], [-1.4863690460292933, 1.2694853149485923], [0.9017849665904868, -0.04768546646734371], [-0.501243626436444, 1.4159275014189368], [1.1137256436885155, -0.8637394152393784], [-0.3104301396257342, -0.4554267270441956], [-0.8415921215982313, 0.6605036272188788], [0.6774665591224982, 0.12210415405779101], [1.430158511059004, -0.5956063128613992], [1.4280498771375072, -1.3036464838827606], [2.9568166589737634, -0.3629488032793455], [0.5040137932036927, -1.202855718943358], [-1.471924291897975, 0.3287495242118639], [1.8633623604907654, 0.5879985050223187], [-1.4864159681737905, 0.22213986766632163], [0.8108569964273751, 0.28805072641634627], [-1.1406252849957588, -1.0611420618462735], [1.5620145917931856, -1.0571259971495188], [0.3998322388553784, 0.4926692560738369], [-0.04530133692371477, -0.17715954774333267], [-0.7152390533456251, 0.4469050295570005], [-1.0398849316775571, 0.23820311109097903], [-1.9629188516167546, 1.2699436143124034], [-0.6778822430735045, -0.7408350831218642], [0.35379236151480437, -1.4304332305022078], [-0.24711744898332944, -0.24499698195301042], [-1.1005843479201576, -0.37381405485327174], [-0.9580995097897939, -1.1799473681558856], [-0.6256959984537234, -0.6610330287579758], [0.7565286008349001, -0.4691085800783213], [-0.08868117055834354, 0.9752403669238922], [2.5373985162718773, 1.7084470867360233], [1.8394643768893506, 0.6344417449841684], [2.1794442723860024, -0.06862043635472073], [-0.9204014946372112, 1.3574307925777145], [-0.9254515842183065, -0.5482387347346659], [0.390065590493575, -0.7214230590594422], [-0.4065696334114215, 0.5593892261740825], [0.6498862986319046, 0.7555818033479436], [-0.407315189914376, -0.5442619253906297], [0.17832512066114417, -0.7080754118783908], [0.0658623416477053, -0.08924422830542657], [2.930425029936128, 0.981028803076604], [-0.7137654001889079, -0.1762443224586968], [-0.32740678671263074, 0.011794314730199552], [0.5120071190219632, -1.2577692624282442], [-0.22435564640908337, -0.7286587374963762], [0.08211350933777146, -1.2366782430777385], [-2.5619572058275573, 1.7265655334398071], [1.0069725745946283, -0.9651391132689608], [-0.9646444404500792, 0.5141691385480605], [-1.053938616965041, 0.37847373730032924], [-2.823971792306703, 1.7765306950303017], [0.8518359976817519, -0.5364696660737995], [-1.258225584408128, 1.6034329018682174], [-1.0112557622557372, -1.633861530346901], [-0.33537507803518557, -0.08034924455747094], [1.0446083131697643, 2.0190657619383434], [0.12794160285586773, 0.7547604005250832], [1.0467574069093155, -1.1939302499800561], [0.8416418314480452, -1.6590575548396476], [0.30069952471871103, -1.7832395992453152], [-0.12428933104006344, 0.5956611712161979], [-1.0738053454155225, -1.032273032535241], [-0.8315084747196143, -1.42641440833751], [-1.5559987034514655, -0.8888432931568369], [0.46225032077024636, 0.4236554645074446], [-0.17507585096335626, 1.2056960215690815], [-2.0208408651129632, 0.7149168964966368], [0.7764397168715967, 1.5487172533018438], [-0.8327883763225821, -0.5841194869674967], [-0.30349657867560104, 0.9696576720265612], [1.1301560238564694, 0.31704307712367735], [-0.49468596551707694, 0.01764683321707205], [2.79251164668465, 0.9070550188323548], [-1.3080075023554771, -0.07945618973833782]]}, \"id\": \"el23452140485909038032\"});\n",
       "      });\n",
       "    });\n",
       "}else{\n",
       "    // require.js not available: dynamically load d3 & mpld3\n",
       "    mpld3_load_lib(\"https://mpld3.github.io/js/d3.v3.min.js\", function(){\n",
       "         mpld3_load_lib(\"https://mpld3.github.io/js/mpld3.v0.2.js\", function(){\n",
       "                 \n",
       "                 mpld3.draw_figure(\"fig_el234521404859090380325415850648\", {\"axes\": [{\"xlim\": [-4.0, 4.0], \"yscale\": \"linear\", \"axesbg\": \"#EEEEEE\", \"texts\": [{\"v_baseline\": \"auto\", \"h_anchor\": \"middle\", \"color\": \"#000000\", \"text\": \"Scatter Plot (with tooltips!)\", \"coordinates\": \"axes\", \"zorder\": 3, \"alpha\": 1, \"fontsize\": 20.0, \"position\": [0.5, 1.0224014336917562], \"rotation\": -0.0, \"id\": \"el23452140485877768400\"}], \"zoomable\": true, \"images\": [], \"xdomain\": [-4.0, 4.0], \"ylim\": [-3.0, 3.0], \"paths\": [], \"sharey\": [], \"sharex\": [], \"axesbgalpha\": null, \"axes\": [{\"scale\": \"linear\", \"tickformat\": null, \"grid\": {\"color\": \"#FFFFFF\", \"alpha\": 1.0, \"dasharray\": \"10,0\", \"gridOn\": true}, \"fontsize\": 10.0, \"position\": \"bottom\", \"nticks\": 9, \"tickvalues\": null}, {\"scale\": \"linear\", \"tickformat\": null, \"grid\": {\"color\": \"#FFFFFF\", \"alpha\": 1.0, \"dasharray\": \"10,0\", \"gridOn\": true}, \"fontsize\": 10.0, \"position\": \"left\", \"nticks\": 7, \"tickvalues\": null}], \"lines\": [], \"markers\": [], \"id\": \"el23452140485876824720\", \"ydomain\": [-3.0, 3.0], \"collections\": [{\"paths\": [[[[0.0, -0.5], [0.13260155, -0.5], [0.25978993539242673, -0.44731684579412084], [0.3535533905932738, -0.3535533905932738], [0.44731684579412084, -0.25978993539242673], [0.5, -0.13260155], [0.5, 0.0], [0.5, 0.13260155], [0.44731684579412084, 0.25978993539242673], [0.3535533905932738, 0.3535533905932738], [0.25978993539242673, 0.44731684579412084], [0.13260155, 0.5], [0.0, 0.5], [-0.13260155, 0.5], [-0.25978993539242673, 0.44731684579412084], [-0.3535533905932738, 0.3535533905932738], [-0.44731684579412084, 0.25978993539242673], [-0.5, 0.13260155], [-0.5, 0.0], [-0.5, -0.13260155], [-0.44731684579412084, -0.25978993539242673], [-0.3535533905932738, -0.3535533905932738], [-0.25978993539242673, -0.44731684579412084], [-0.13260155, -0.5], [0.0, -0.5]], [\"M\", \"C\", \"C\", \"C\", \"C\", \"C\", \"C\", \"C\", \"C\", \"Z\"]]], \"edgecolors\": [\"#000000\"], \"edgewidths\": [1.0], \"offsets\": \"data01\", \"yindex\": 1, \"id\": \"el23452140485877701200\", \"pathtransforms\": [[29.42325284772278, 0.0, 0.0, 29.42325284772278, 0.0, 0.0], [21.167157156847605, 0.0, 0.0, 21.167157156847605, 0.0, 0.0], [22.90310800472908, 0.0, 0.0, 22.90310800472908, 0.0, 0.0], [13.686819890665895, 0.0, 0.0, 13.686819890665895, 0.0, 0.0], [34.51125848220158, 0.0, 0.0, 34.51125848220158, 0.0, 0.0], [27.980147015388493, 0.0, 0.0, 27.980147015388493, 0.0, 0.0], [20.501784238523225, 0.0, 0.0, 20.501784238523225, 0.0, 0.0], [7.7024242785119235, 0.0, 0.0, 7.7024242785119235, 0.0, 0.0], [5.050584396952309, 0.0, 0.0, 5.050584396952309, 0.0, 0.0], [15.911514458541198, 0.0, 0.0, 15.911514458541198, 0.0, 0.0], [30.62848185666889, 0.0, 0.0, 30.62848185666889, 0.0, 0.0], [28.216044796629088, 0.0, 0.0, 28.216044796629088, 0.0, 0.0], [33.88215634820503, 0.0, 0.0, 33.88215634820503, 0.0, 0.0], [30.6758918770128, 0.0, 0.0, 30.6758918770128, 0.0, 0.0], [35.136016417839784, 0.0, 0.0, 35.136016417839784, 0.0, 0.0], [13.909682792123643, 0.0, 0.0, 13.909682792123643, 0.0, 0.0], [5.183765896531124, 0.0, 0.0, 5.183765896531124, 0.0, 0.0], [3.6547536533446, 0.0, 0.0, 3.6547536533446, 0.0, 0.0], [12.332219745626649, 0.0, 0.0, 12.332219745626649, 0.0, 0.0], [19.213599193175007, 0.0, 0.0, 19.213599193175007, 0.0, 0.0], [19.658536930725152, 0.0, 0.0, 19.658536930725152, 0.0, 0.0], [10.378949448926925, 0.0, 0.0, 10.378949448926925, 0.0, 0.0], [32.722906172857364, 0.0, 0.0, 32.722906172857364, 0.0, 0.0], [6.369203503883672, 0.0, 0.0, 6.369203503883672, 0.0, 0.0], [27.773761547656516, 0.0, 0.0, 27.773761547656516, 0.0, 0.0], [32.058556518464606, 0.0, 0.0, 32.058556518464606, 0.0, 0.0], [27.478474085700277, 0.0, 0.0, 27.478474085700277, 0.0, 0.0], [23.009075139114707, 0.0, 0.0, 23.009075139114707, 0.0, 0.0], [30.650710512187427, 0.0, 0.0, 30.650710512187427, 0.0, 0.0], [27.41356095947826, 0.0, 0.0, 27.41356095947826, 0.0, 0.0], [22.002574048856566, 0.0, 0.0, 22.002574048856566, 0.0, 0.0], [28.007698947924762, 0.0, 0.0, 28.007698947924762, 0.0, 0.0], [33.27689869852583, 0.0, 0.0, 33.27689869852583, 0.0, 0.0], [34.51485998739888, 0.0, 0.0, 34.51485998739888, 0.0, 0.0], [33.42919705426178, 0.0, 0.0, 33.42919705426178, 0.0, 0.0], [26.58457309009377, 0.0, 0.0, 26.58457309009377, 0.0, 0.0], [26.385549768646225, 0.0, 0.0, 26.385549768646225, 0.0, 0.0], [33.19903060385695, 0.0, 0.0, 33.19903060385695, 0.0, 0.0], [11.13009496808494, 0.0, 0.0, 11.13009496808494, 0.0, 0.0], [13.825804836571631, 0.0, 0.0, 13.825804836571631, 0.0, 0.0], [19.069753096780783, 0.0, 0.0, 19.069753096780783, 0.0, 0.0], [30.545570193513306, 0.0, 0.0, 30.545570193513306, 0.0, 0.0], [35.06849086748346, 0.0, 0.0, 35.06849086748346, 0.0, 0.0], [13.521668595887165, 0.0, 0.0, 13.521668595887165, 0.0, 0.0], [14.702528350635086, 0.0, 0.0, 14.702528350635086, 0.0, 0.0], [34.236862740908336, 0.0, 0.0, 34.236862740908336, 0.0, 0.0], [17.968245505713107, 0.0, 0.0, 17.968245505713107, 0.0, 0.0], [9.47387444581872, 0.0, 0.0, 9.47387444581872, 0.0, 0.0], [15.168247551788491, 0.0, 0.0, 15.168247551788491, 0.0, 0.0], [27.08648015434157, 0.0, 0.0, 27.08648015434157, 0.0, 0.0], [24.216944373330453, 0.0, 0.0, 24.216944373330453, 0.0, 0.0], [25.878870856524546, 0.0, 0.0, 25.878870856524546, 0.0, 0.0], [2.8832278315344664, 0.0, 0.0, 2.8832278315344664, 0.0, 0.0], [26.712122677573273, 0.0, 0.0, 26.712122677573273, 0.0, 0.0], [16.546144277428187, 0.0, 0.0, 16.546144277428187, 0.0, 0.0], [34.883830769357594, 0.0, 0.0, 34.883830769357594, 0.0, 0.0], [26.256158036867475, 0.0, 0.0, 26.256158036867475, 0.0, 0.0], [20.65740063099371, 0.0, 0.0, 20.65740063099371, 0.0, 0.0], [24.176932667305874, 0.0, 0.0, 24.176932667305874, 0.0, 0.0], [27.942258509741823, 0.0, 0.0, 27.942258509741823, 0.0, 0.0], [12.526394496789278, 0.0, 0.0, 12.526394496789278, 0.0, 0.0], [34.70067034068093, 0.0, 0.0, 34.70067034068093, 0.0, 0.0], [34.11178807918205, 0.0, 0.0, 34.11178807918205, 0.0, 0.0], [26.358142137384274, 0.0, 0.0, 26.358142137384274, 0.0, 0.0], [25.36377153264171, 0.0, 0.0, 25.36377153264171, 0.0, 0.0], [32.583056277730186, 0.0, 0.0, 32.583056277730186, 0.0, 0.0], [1.752009359312862, 0.0, 0.0, 1.752009359312862, 0.0, 0.0], [19.04345618976695, 0.0, 0.0, 19.04345618976695, 0.0, 0.0], [23.187865925924005, 0.0, 0.0, 23.187865925924005, 0.0, 0.0], [34.64320670347668, 0.0, 0.0, 34.64320670347668, 0.0, 0.0], [20.069434408120443, 0.0, 0.0, 20.069434408120443, 0.0, 0.0], [26.966221612205615, 0.0, 0.0, 26.966221612205615, 0.0, 0.0], [11.490410372292981, 0.0, 0.0, 11.490410372292981, 0.0, 0.0], [16.920312597161704, 0.0, 0.0, 16.920312597161704, 0.0, 0.0], [17.41427056000719, 0.0, 0.0, 17.41427056000719, 0.0, 0.0], [4.668403497496502, 0.0, 0.0, 4.668403497496502, 0.0, 0.0], [23.82774775902975, 0.0, 0.0, 23.82774775902975, 0.0, 0.0], [19.95756027268656, 0.0, 0.0, 19.95756027268656, 0.0, 0.0], [22.251033299613354, 0.0, 0.0, 22.251033299613354, 0.0, 0.0], [26.211670595890347, 0.0, 0.0, 26.211670595890347, 0.0, 0.0], [12.919695372970219, 0.0, 0.0, 12.919695372970219, 0.0, 0.0], [14.171265519404018, 0.0, 0.0, 14.171265519404018, 0.0, 0.0], [28.527153258439473, 0.0, 0.0, 28.527153258439473, 0.0, 0.0], [17.76485941032987, 0.0, 0.0, 17.76485941032987, 0.0, 0.0], [30.303790822842945, 0.0, 0.0, 30.303790822842945, 0.0, 0.0], [16.852211902845777, 0.0, 0.0, 16.852211902845777, 0.0, 0.0], [13.914335711308524, 0.0, 0.0, 13.914335711308524, 0.0, 0.0], [14.47299887593139, 0.0, 0.0, 14.47299887593139, 0.0, 0.0], [30.077177538442363, 0.0, 0.0, 30.077177538442363, 0.0, 0.0], [26.245443949192158, 0.0, 0.0, 26.245443949192158, 0.0, 0.0], [25.818201063705402, 0.0, 0.0, 25.818201063705402, 0.0, 0.0], [25.399704182992956, 0.0, 0.0, 25.399704182992956, 0.0, 0.0], [17.28422718402915, 0.0, 0.0, 17.28422718402915, 0.0, 0.0], [34.538318195839565, 0.0, 0.0, 34.538318195839565, 0.0, 0.0], [7.053120587653315, 0.0, 0.0, 7.053120587653315, 0.0, 0.0], [8.558020580211288, 0.0, 0.0, 8.558020580211288, 0.0, 0.0], [26.714033560059235, 0.0, 0.0, 26.714033560059235, 0.0, 0.0], [9.34343754620693, 0.0, 0.0, 9.34343754620693, 0.0, 0.0], [11.974532864099169, 0.0, 0.0, 11.974532864099169, 0.0, 0.0], [18.074638619327747, 0.0, 0.0, 18.074638619327747, 0.0, 0.0]], \"pathcoordinates\": \"display\", \"offsetcoordinates\": \"data\", \"zorder\": 1, \"xindex\": 0, \"alphas\": [0.3], \"facecolors\": [\"#DA0000\", \"#006CFF\", \"#0000FF\", \"#80FF76\", \"#FFC800\", \"#FFBD00\", \"#0028FF\", \"#00007F\", \"#FFE500\", \"#53FFA3\", \"#FFD300\", \"#0000F1\", \"#0000F5\", \"#0000F5\", \"#7F0000\", \"#FF6B00\", \"#FF4200\", \"#49FFAD\", \"#29FFCD\", \"#DAFF1C\", \"#0000E3\", \"#D7FF1F\", \"#0030FF\", \"#000CFF\", \"#00007F\", \"#25FFD0\", \"#FFDE00\", \"#D10000\", \"#3FFFB7\", \"#00B4FF\", \"#000088\", \"#0088FF\", \"#FFB500\", \"#FF9800\", \"#0000F1\", \"#C0FF36\", \"#0018FF\", \"#0000FA\", \"#00009F\", \"#00C0FF\", \"#2CFFCA\", \"#FFB900\", \"#0074FF\", \"#FF6700\", \"#FF4600\", \"#05ECF1\", \"#FFCB00\", \"#00007F\", \"#007CFF\", \"#000084\", \"#FF6F00\", \"#FFA300\", \"#D4FF22\", \"#0070FF\", \"#002CFF\", \"#CC0000\", \"#A30000\", \"#4CFFAA\", \"#910000\", \"#0088FF\", \"#FF7E00\", \"#00008D\", \"#CC0000\", \"#0000FF\", \"#F50B00\", \"#0010FF\", \"#FF3700\", \"#C7FF2F\", \"#FF4200\", \"#4FFFA6\", \"#FF1A00\", \"#D4FF22\", \"#00E4F7\", \"#32FFC3\", \"#FFB900\", \"#00008D\", \"#FFAE00\", \"#FFAA00\", \"#00B4FF\", \"#00E0FA\", \"#76FF80\", \"#FEED00\", \"#18FFDD\", \"#FFE200\", \"#2CFFCA\", \"#FF7600\", \"#0000FF\", \"#22FFD4\", \"#0000FF\", \"#BDFF39\", \"#2CFFCA\", \"#FF5100\", \"#005CFF\", \"#F10700\", \"#D4FF22\", \"#FF8900\", \"#EDFF08\", \"#FF5C00\", \"#B0FF46\", \"#0038FF\"]}], \"xscale\": \"linear\", \"bbox\": [0.125, 0.125, 0.77500000000000002, 0.77500000000000002]}], \"height\": 320.0, \"width\": 480.0, \"plugins\": [{\"type\": \"reset\"}, {\"enabled\": false, \"button\": true, \"type\": \"zoom\"}, {\"enabled\": false, \"button\": true, \"type\": \"boxzoom\"}, {\"voffset\": 10, \"labels\": [\"point 1\", \"point 2\", \"point 3\", \"point 4\", \"point 5\", \"point 6\", \"point 7\", \"point 8\", \"point 9\", \"point 10\", \"point 11\", \"point 12\", \"point 13\", \"point 14\", \"point 15\", \"point 16\", \"point 17\", \"point 18\", \"point 19\", \"point 20\", \"point 21\", \"point 22\", \"point 23\", \"point 24\", \"point 25\", \"point 26\", \"point 27\", \"point 28\", \"point 29\", \"point 30\", \"point 31\", \"point 32\", \"point 33\", \"point 34\", \"point 35\", \"point 36\", \"point 37\", \"point 38\", \"point 39\", \"point 40\", \"point 41\", \"point 42\", \"point 43\", \"point 44\", \"point 45\", \"point 46\", \"point 47\", \"point 48\", \"point 49\", \"point 50\", \"point 51\", \"point 52\", \"point 53\", \"point 54\", \"point 55\", \"point 56\", \"point 57\", \"point 58\", \"point 59\", \"point 60\", \"point 61\", \"point 62\", \"point 63\", \"point 64\", \"point 65\", \"point 66\", \"point 67\", \"point 68\", \"point 69\", \"point 70\", \"point 71\", \"point 72\", \"point 73\", \"point 74\", \"point 75\", \"point 76\", \"point 77\", \"point 78\", \"point 79\", \"point 80\", \"point 81\", \"point 82\", \"point 83\", \"point 84\", \"point 85\", \"point 86\", \"point 87\", \"point 88\", \"point 89\", \"point 90\", \"point 91\", \"point 92\", \"point 93\", \"point 94\", \"point 95\", \"point 96\", \"point 97\", \"point 98\", \"point 99\", \"point 100\"], \"hoffset\": 0, \"location\": \"mouse\", \"type\": \"tooltip\", \"id\": \"el23452140485877701200\"}], \"data\": {\"data01\": [[-0.8303677615661511, -0.30668750786588217], [-0.128590181397488, 1.428820245465774], [-0.5630416790262519, -0.44561432322078626], [1.5612490890953068, -0.8099772422811828], [1.6087918500884097, 2.193024216190681], [0.33441168980490843, -2.089498711973843], [-0.4780623734459263, 0.3328148494455277], [-0.8928336314653593, -0.24606798021797205], [0.7800302470091642, 2.1358575494261247], [-3.1460591981861366, 2.018735535382533], [0.2521541349171582, -0.5700982414353755], [-0.927957233014482, -0.9976997026796138], [-0.05015480285732531, -0.5058050553047361], [2.034581512053741, -0.10882982271926808], [-0.20553734764596432, -0.9933743128966771], [1.3458526852475932, -0.7445395276565013], [0.937161924685586, -0.21094274109873518], [-0.7945578539265604, -0.3748535347896779], [0.14101977487146572, -2.077246107222358], [-0.8968493929713598, 1.2608594158219895], [0.019154848646156675, -0.5807832371510168], [0.797907635605409, 2.3193067921156385], [0.7062459922645931, 0.5475492146053208], [1.4490864413077809, -1.6828266139180925], [0.042454864972169645, 0.3423118663006945], [-1.4863690460292933, 1.2694853149485923], [0.9017849665904868, -0.04768546646734371], [-0.501243626436444, 1.4159275014189368], [1.1137256436885155, -0.8637394152393784], [-0.3104301396257342, -0.4554267270441956], [-0.8415921215982313, 0.6605036272188788], [0.6774665591224982, 0.12210415405779101], [1.430158511059004, -0.5956063128613992], [1.4280498771375072, -1.3036464838827606], [2.9568166589737634, -0.3629488032793455], [0.5040137932036927, -1.202855718943358], [-1.471924291897975, 0.3287495242118639], [1.8633623604907654, 0.5879985050223187], [-1.4864159681737905, 0.22213986766632163], [0.8108569964273751, 0.28805072641634627], [-1.1406252849957588, -1.0611420618462735], [1.5620145917931856, -1.0571259971495188], [0.3998322388553784, 0.4926692560738369], [-0.04530133692371477, -0.17715954774333267], [-0.7152390533456251, 0.4469050295570005], [-1.0398849316775571, 0.23820311109097903], [-1.9629188516167546, 1.2699436143124034], [-0.6778822430735045, -0.7408350831218642], [0.35379236151480437, -1.4304332305022078], [-0.24711744898332944, -0.24499698195301042], [-1.1005843479201576, -0.37381405485327174], [-0.9580995097897939, -1.1799473681558856], [-0.6256959984537234, -0.6610330287579758], [0.7565286008349001, -0.4691085800783213], [-0.08868117055834354, 0.9752403669238922], [2.5373985162718773, 1.7084470867360233], [1.8394643768893506, 0.6344417449841684], [2.1794442723860024, -0.06862043635472073], [-0.9204014946372112, 1.3574307925777145], [-0.9254515842183065, -0.5482387347346659], [0.390065590493575, -0.7214230590594422], [-0.4065696334114215, 0.5593892261740825], [0.6498862986319046, 0.7555818033479436], [-0.407315189914376, -0.5442619253906297], [0.17832512066114417, -0.7080754118783908], [0.0658623416477053, -0.08924422830542657], [2.930425029936128, 0.981028803076604], [-0.7137654001889079, -0.1762443224586968], [-0.32740678671263074, 0.011794314730199552], [0.5120071190219632, -1.2577692624282442], [-0.22435564640908337, -0.7286587374963762], [0.08211350933777146, -1.2366782430777385], [-2.5619572058275573, 1.7265655334398071], [1.0069725745946283, -0.9651391132689608], [-0.9646444404500792, 0.5141691385480605], [-1.053938616965041, 0.37847373730032924], [-2.823971792306703, 1.7765306950303017], [0.8518359976817519, -0.5364696660737995], [-1.258225584408128, 1.6034329018682174], [-1.0112557622557372, -1.633861530346901], [-0.33537507803518557, -0.08034924455747094], [1.0446083131697643, 2.0190657619383434], [0.12794160285586773, 0.7547604005250832], [1.0467574069093155, -1.1939302499800561], [0.8416418314480452, -1.6590575548396476], [0.30069952471871103, -1.7832395992453152], [-0.12428933104006344, 0.5956611712161979], [-1.0738053454155225, -1.032273032535241], [-0.8315084747196143, -1.42641440833751], [-1.5559987034514655, -0.8888432931568369], [0.46225032077024636, 0.4236554645074446], [-0.17507585096335626, 1.2056960215690815], [-2.0208408651129632, 0.7149168964966368], [0.7764397168715967, 1.5487172533018438], [-0.8327883763225821, -0.5841194869674967], [-0.30349657867560104, 0.9696576720265612], [1.1301560238564694, 0.31704307712367735], [-0.49468596551707694, 0.01764683321707205], [2.79251164668465, 0.9070550188323548], [-1.3080075023554771, -0.07945618973833782]]}, \"id\": \"el23452140485909038032\"});\n",
       "            })\n",
       "         });\n",
       "}\n",
       "</script>"
      ],
      "text/plain": [
       "<IPython.core.display.HTML object>"
      ]
     },
     "execution_count": 72,
     "metadata": {},
     "output_type": "execute_result"
    }
   ],
   "source": [
    "my_func()\n",
    "mpld3.display()"
   ]
  },
  {
   "cell_type": "code",
   "execution_count": 408,
   "metadata": {
    "collapsed": false
   },
   "outputs": [],
   "source": [
    "# import matplotlib.pyplot as plt\n",
    "# import numpy as np\n",
    "# from numpy.random import random\n",
    "\n",
    "# import plotly.plotly as py\n",
    "# import plotly.tools as tls\n",
    "# py.sign_in('sgiorgi', '95bevqxgt7')\n",
    "\n",
    "# colors = ['b', 'c', 'y', 'm', 'r']\n",
    "\n",
    "# lo = plt.scatter(random(10), random(10), marker='x', color=colors[0])\n",
    "# ll = plt.scatter(random(10), random(10), marker='o', color=colors[0])\n",
    "# l  = plt.scatter(random(10), random(10), marker='o', color=colors[1])\n",
    "# a  = plt.scatter(random(10), random(10), marker='o', color=colors[2])\n",
    "# h  = plt.scatter(random(10), random(10), marker='o', color=colors[3])\n",
    "# hh = plt.scatter(random(10), random(10), marker='o', color=colors[4])\n",
    "# ho = plt.scatter(random(10), random(10), marker='x', color=colors[4])\n",
    "\n",
    "# text = iter(['Low Outlier', 'LoLo', 'Lo', 'Average', 'Hi', 'HiHi', 'High Outlier'])\n",
    "\n",
    "\n",
    "# mpl_fig = plt.gcf()\n",
    "# plotly_fig = tls.mpl_to_plotly( mpl_fig )\n",
    "\n",
    "# i = 0\n",
    "# for dat in plotly_fig['data']:\n",
    "#     i += 1\n",
    "#     print(i)\n",
    "#     t = text.next()\n",
    "#     dat.update({'name': t, 'text':t})\n",
    "\n",
    "# plotly_fig['layout']['showlegend'] = True\n",
    "# py.plot(plotly_fig)"
   ]
  },
  {
   "cell_type": "code",
   "execution_count": null,
   "metadata": {
    "collapsed": true
   },
   "outputs": [],
   "source": []
  }
 ],
 "metadata": {
  "anaconda-cloud": {},
  "kernelspec": {
   "display_name": "Python [wwbpy]",
   "language": "python",
   "name": "Python [wwbpy]"
  },
  "language_info": {
   "codemirror_mode": {
    "name": "ipython",
    "version": 2
   },
   "file_extension": ".py",
   "mimetype": "text/x-python",
   "name": "python",
   "nbconvert_exporter": "python",
   "pygments_lexer": "ipython2",
   "version": "2.7.12"
  }
 },
 "nbformat": 4,
 "nbformat_minor": 1
}
